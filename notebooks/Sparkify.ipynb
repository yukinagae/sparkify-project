{
 "cells": [
  {
   "cell_type": "markdown",
   "metadata": {},
   "source": [
    "# Sparkify Project Workspace\n",
    "This workspace contains a tiny subset (128MB) of the full dataset available (12GB). Feel free to use this workspace to build your project, or to explore a smaller subset with Spark before deploying your cluster on the cloud. Instructions for setting up your Spark cluster is included in the last lesson of the Extracurricular Spark Course content.\n",
    "\n",
    "You can follow the steps below to guide your data analysis and model building portion of this project."
   ]
  },
  {
   "cell_type": "code",
   "execution_count": 61,
   "metadata": {},
   "outputs": [],
   "source": [
    "# import libraries\n",
    "from pyspark.sql import SparkSession, Window\n",
    "\n",
    "from pyspark.sql.functions import udf\n",
    "from pyspark.sql.types import StringType\n",
    "from pyspark.sql.types import IntegerType\n",
    "from pyspark.sql.functions import sum as Fsum\n",
    "from pyspark.sql.functions import min as Fmin\n",
    "from pyspark.sql.functions import max as Fmax\n",
    "from pyspark.sql.functions import avg, col, concat, count, desc, asc, explode, lit, split, stddev, udf, isnan, when, rank, from_unixtime\n",
    "\n",
    "from pyspark.ml import Pipeline\n",
    "from pyspark.ml.feature import MinMaxScaler, VectorAssembler\n",
    "from pyspark.ml.classification import LogisticRegression\n",
    "from pyspark.ml.evaluation import BinaryClassificationEvaluator, MulticlassClassificationEvaluator\n",
    "from pyspark.ml.tuning import CrossValidator, ParamGridBuilder"
   ]
  },
  {
   "cell_type": "code",
   "execution_count": 2,
   "metadata": {},
   "outputs": [],
   "source": [
    "# Create spark session\n",
    "spark = SparkSession \\\n",
    "    .builder \\\n",
    "    .appName(\"Sparkify\") \\\n",
    "    .getOrCreate()"
   ]
  },
  {
   "cell_type": "code",
   "execution_count": 3,
   "metadata": {},
   "outputs": [],
   "source": [
    "# Read in full sparkify dataset\n",
    "event_data = \"../input/mini_sparkify_event_data.json\"\n",
    "df = spark.read.json(event_data)"
   ]
  },
  {
   "cell_type": "markdown",
   "metadata": {},
   "source": [
    "# Load and Clean Dataset\n",
    "In this workspace, the mini-dataset file is `mini_sparkify_event_data.json`. Load and clean the dataset, checking for invalid or missing data - for example, records without userids or sessionids. "
   ]
  },
  {
   "cell_type": "markdown",
   "metadata": {},
   "source": [
    "The first five rows of the dataset."
   ]
  },
  {
   "cell_type": "code",
   "execution_count": 4,
   "metadata": {},
   "outputs": [
    {
     "data": {
      "text/plain": [
       "[Row(artist='Martha Tilston', auth='Logged In', firstName='Colin', gender='M', itemInSession=50, lastName='Freeman', length=277.89016, level='paid', location='Bakersfield, CA', method='PUT', page='NextSong', registration=1538173362000, sessionId=29, song='Rockpools', status=200, ts=1538352117000, userAgent='Mozilla/5.0 (Windows NT 6.1; WOW64; rv:31.0) Gecko/20100101 Firefox/31.0', userId='30'),\n",
       " Row(artist='Five Iron Frenzy', auth='Logged In', firstName='Micah', gender='M', itemInSession=79, lastName='Long', length=236.09424, level='free', location='Boston-Cambridge-Newton, MA-NH', method='PUT', page='NextSong', registration=1538331630000, sessionId=8, song='Canada', status=200, ts=1538352180000, userAgent='\"Mozilla/5.0 (Windows NT 6.1; WOW64) AppleWebKit/537.36 (KHTML, like Gecko) Chrome/37.0.2062.103 Safari/537.36\"', userId='9'),\n",
       " Row(artist='Adam Lambert', auth='Logged In', firstName='Colin', gender='M', itemInSession=51, lastName='Freeman', length=282.8273, level='paid', location='Bakersfield, CA', method='PUT', page='NextSong', registration=1538173362000, sessionId=29, song='Time For Miracles', status=200, ts=1538352394000, userAgent='Mozilla/5.0 (Windows NT 6.1; WOW64; rv:31.0) Gecko/20100101 Firefox/31.0', userId='30'),\n",
       " Row(artist='Enigma', auth='Logged In', firstName='Micah', gender='M', itemInSession=80, lastName='Long', length=262.71302, level='free', location='Boston-Cambridge-Newton, MA-NH', method='PUT', page='NextSong', registration=1538331630000, sessionId=8, song='Knocking On Forbidden Doors', status=200, ts=1538352416000, userAgent='\"Mozilla/5.0 (Windows NT 6.1; WOW64) AppleWebKit/537.36 (KHTML, like Gecko) Chrome/37.0.2062.103 Safari/537.36\"', userId='9'),\n",
       " Row(artist='Daft Punk', auth='Logged In', firstName='Colin', gender='M', itemInSession=52, lastName='Freeman', length=223.60771, level='paid', location='Bakersfield, CA', method='PUT', page='NextSong', registration=1538173362000, sessionId=29, song='Harder Better Faster Stronger', status=200, ts=1538352676000, userAgent='Mozilla/5.0 (Windows NT 6.1; WOW64; rv:31.0) Gecko/20100101 Firefox/31.0', userId='30')]"
      ]
     },
     "execution_count": 4,
     "metadata": {},
     "output_type": "execute_result"
    }
   ],
   "source": [
    "df.head(5)"
   ]
  },
  {
   "cell_type": "markdown",
   "metadata": {},
   "source": [
    "Schema information\n",
    "\n",
    "* artist: Artist name (ex. Daft Punk)\n",
    "* auth: User authentication status (ex. Logged)\n",
    "* firstName: User first name (ex. Colin)\n",
    "* gender: Gender (ex. F or M)\n",
    "* itemInSession: Item count in a session (ex. 52)\n",
    "* lastName: User last name (ex. Freeman)\n",
    "* length: Length of song (ex. 223.60771)\n",
    "* level: User plan (ex. paid)\n",
    "* location: User's location (ex. Bakersfield)\n",
    "* method: HTTP method (ex. PUT)\n",
    "* page: Page name (ex. NextSong)\n",
    "* registration: Registration timestamp (unix timestamp) (ex. 1538173362000)\n",
    "* sessionId: Session ID (ex. 29)\n",
    "* song: Song (ex. Harder Better Faster Stronger)\n",
    "* status: HTTP status (ex. 200)\n",
    "* ts: Event timestamp(unix timestamp) (ex. 1538352676000)\n",
    "* userAgent: User's browswer agent (ex. Mozilla/5.0 (Windows NT 6.1; WOW64; rv:31.0) Gecko/20100101 Firefox/31.0)\n",
    "* userId: User ID (ex. 30)"
   ]
  },
  {
   "cell_type": "code",
   "execution_count": 5,
   "metadata": {},
   "outputs": [
    {
     "name": "stdout",
     "output_type": "stream",
     "text": [
      "root\n",
      " |-- artist: string (nullable = true)\n",
      " |-- auth: string (nullable = true)\n",
      " |-- firstName: string (nullable = true)\n",
      " |-- gender: string (nullable = true)\n",
      " |-- itemInSession: long (nullable = true)\n",
      " |-- lastName: string (nullable = true)\n",
      " |-- length: double (nullable = true)\n",
      " |-- level: string (nullable = true)\n",
      " |-- location: string (nullable = true)\n",
      " |-- method: string (nullable = true)\n",
      " |-- page: string (nullable = true)\n",
      " |-- registration: long (nullable = true)\n",
      " |-- sessionId: long (nullable = true)\n",
      " |-- song: string (nullable = true)\n",
      " |-- status: long (nullable = true)\n",
      " |-- ts: long (nullable = true)\n",
      " |-- userAgent: string (nullable = true)\n",
      " |-- userId: string (nullable = true)\n",
      "\n"
     ]
    }
   ],
   "source": [
    "df.printSchema()"
   ]
  },
  {
   "cell_type": "markdown",
   "metadata": {},
   "source": [
    "## Statistics"
   ]
  },
  {
   "cell_type": "markdown",
   "metadata": {},
   "source": [
    "Statistics of the whole dataset"
   ]
  },
  {
   "cell_type": "code",
   "execution_count": 6,
   "metadata": {},
   "outputs": [
    {
     "name": "stdout",
     "output_type": "stream",
     "text": [
      "+-------+------------------+----------+---------+------+------------------+--------+------------------+------+-----------------+------+-------+--------------------+-----------------+--------------------+------------------+--------------------+--------------------+------------------+\n",
      "|summary|            artist|      auth|firstName|gender|     itemInSession|lastName|            length| level|         location|method|   page|        registration|        sessionId|                song|            status|                  ts|           userAgent|            userId|\n",
      "+-------+------------------+----------+---------+------+------------------+--------+------------------+------+-----------------+------+-------+--------------------+-----------------+--------------------+------------------+--------------------+--------------------+------------------+\n",
      "|  count|            228108|    286500|   278154|278154|            286500|  278154|            228108|286500|           278154|286500| 286500|              278154|           286500|              228108|            286500|              286500|              278154|            286500|\n",
      "|   mean| 551.0852017937219|      null|     null|  null|114.41421291448516|    null|249.11718197783722|  null|             null|  null|   null|1.535358834085557E12|1041.526554973822|            Infinity|210.05459685863875|1.540956889810471...|                null| 59682.02278593872|\n",
      "| stddev|1217.7693079161374|      null|     null|  null|129.76726201141085|    null| 99.23517921058324|  null|             null|  null|   null| 3.291321616328068E9|726.7762634630834|                 NaN| 31.50507848842202|1.5075439608187113E9|                null|109091.94999910519|\n",
      "|    min|               !!!| Cancelled| Adelaida|     F|                 0|   Adams|           0.78322|  free|       Albany, OR|   GET|  About|       1521380675000|                1|\u001c",
      "ÃÂg ÃÂtti Gr...|               200|       1538352117000|\"Mozilla/5.0 (Mac...|                  |\n",
      "|    max| ÃÂlafur Arnalds|Logged Out|   Zyonna|     M|              1321|  Wright|        3024.66567|  paid|Winston-Salem, NC|   PUT|Upgrade|       1543247354000|             2474|ÃÂau hafa slopp...|               404|       1543799476000|Mozilla/5.0 (comp...|                99|\n",
      "+-------+------------------+----------+---------+------+------------------+--------+------------------+------+-----------------+------+-------+--------------------+-----------------+--------------------+------------------+--------------------+--------------------+------------------+\n",
      "\n"
     ]
    }
   ],
   "source": [
    "df.describe().show()"
   ]
  },
  {
   "cell_type": "markdown",
   "metadata": {},
   "source": [
    "Statistics of the `artist` column"
   ]
  },
  {
   "cell_type": "code",
   "execution_count": 7,
   "metadata": {},
   "outputs": [
    {
     "name": "stdout",
     "output_type": "stream",
     "text": [
      "+-------+------------------+\n",
      "|summary|            artist|\n",
      "+-------+------------------+\n",
      "|  count|            228108|\n",
      "|   mean| 551.0852017937219|\n",
      "| stddev|1217.7693079161374|\n",
      "|    min|               !!!|\n",
      "|    max| ÃÂlafur Arnalds|\n",
      "+-------+------------------+\n",
      "\n"
     ]
    }
   ],
   "source": [
    "df.describe('artist').show()"
   ]
  },
  {
   "cell_type": "markdown",
   "metadata": {},
   "source": [
    "Statistics of the `sessionId` column"
   ]
  },
  {
   "cell_type": "code",
   "execution_count": 8,
   "metadata": {},
   "outputs": [
    {
     "name": "stdout",
     "output_type": "stream",
     "text": [
      "+-------+-----------------+\n",
      "|summary|        sessionId|\n",
      "+-------+-----------------+\n",
      "|  count|           286500|\n",
      "|   mean|1041.526554973822|\n",
      "| stddev|726.7762634630834|\n",
      "|    min|                1|\n",
      "|    max|             2474|\n",
      "+-------+-----------------+\n",
      "\n"
     ]
    }
   ],
   "source": [
    "df.describe('sessionId').show()"
   ]
  },
  {
   "cell_type": "markdown",
   "metadata": {},
   "source": [
    "Statistics of the `userId` column"
   ]
  },
  {
   "cell_type": "code",
   "execution_count": 9,
   "metadata": {},
   "outputs": [
    {
     "name": "stdout",
     "output_type": "stream",
     "text": [
      "+-------+------------------+\n",
      "|summary|            userId|\n",
      "+-------+------------------+\n",
      "|  count|            286500|\n",
      "|   mean| 59682.02278593872|\n",
      "| stddev|109091.94999910519|\n",
      "|    min|                  |\n",
      "|    max|                99|\n",
      "+-------+------------------+\n",
      "\n"
     ]
    }
   ],
   "source": [
    "df.describe('userId').show()"
   ]
  },
  {
   "cell_type": "markdown",
   "metadata": {},
   "source": [
    "Total rows: 286,500"
   ]
  },
  {
   "cell_type": "code",
   "execution_count": 10,
   "metadata": {},
   "outputs": [
    {
     "data": {
      "text/plain": [
       "286500"
      ]
     },
     "execution_count": 10,
     "metadata": {},
     "output_type": "execute_result"
    }
   ],
   "source": [
    "df.count()"
   ]
  },
  {
   "cell_type": "markdown",
   "metadata": {},
   "source": [
    "All the `page` events\n",
    "\n",
    "- About: \n",
    "- Add Friend: \n",
    "- Add to Playlist: \n",
    "- Cancel: \n",
    "- Cancellation Confirmation: **TODO:**\n",
    "- Downgrade: \n",
    "- Error: \n",
    "- Help: \n",
    "- Home: \n",
    "- Login: \n",
    "- Logout: \n",
    "- NextSong: \n",
    "- Register: \n",
    "- Roll Advert: \n",
    "- Save Settings: \n",
    "- Settings: \n",
    "- Submit Downgrade: \n",
    "- Submit Registration: \n",
    "- Submit Upgrade: \n",
    "- Thumbs Down: \n",
    "- Thumbs Up: \n",
    "- Upgrade: "
   ]
  },
  {
   "cell_type": "markdown",
   "metadata": {},
   "source": [
    "`page` kind"
   ]
  },
  {
   "cell_type": "code",
   "execution_count": 11,
   "metadata": {},
   "outputs": [
    {
     "name": "stdout",
     "output_type": "stream",
     "text": [
      "+--------------------+\n",
      "|                page|\n",
      "+--------------------+\n",
      "|               About|\n",
      "|          Add Friend|\n",
      "|     Add to Playlist|\n",
      "|              Cancel|\n",
      "|Cancellation Conf...|\n",
      "|           Downgrade|\n",
      "|               Error|\n",
      "|                Help|\n",
      "|                Home|\n",
      "|               Login|\n",
      "|              Logout|\n",
      "|            NextSong|\n",
      "|            Register|\n",
      "|         Roll Advert|\n",
      "|       Save Settings|\n",
      "|            Settings|\n",
      "|    Submit Downgrade|\n",
      "| Submit Registration|\n",
      "|      Submit Upgrade|\n",
      "|         Thumbs Down|\n",
      "+--------------------+\n",
      "only showing top 20 rows\n",
      "\n"
     ]
    }
   ],
   "source": [
    "df.select(\"page\").dropDuplicates().sort(\"page\").show()"
   ]
  },
  {
   "cell_type": "markdown",
   "metadata": {},
   "source": [
    "## missing values"
   ]
  },
  {
   "cell_type": "code",
   "execution_count": 12,
   "metadata": {},
   "outputs": [],
   "source": [
    "def count_missing(df, col):\n",
    "    \"\"\"\n",
    "    A helper function which count how many missing values in a colum of the dataset.\n",
    "    \n",
    "    This function is useful because the data can be either three cases below:\n",
    "    \n",
    "    1. NaN\n",
    "    2. Null\n",
    "    3. \"\" (empty string)\n",
    "    \"\"\"\n",
    "    return df.filter((isnan(df[col])) | (df[col].isNull()) | (df[col] == \"\")).count()"
   ]
  },
  {
   "cell_type": "markdown",
   "metadata": {},
   "source": [
    "Check how many missing values in each column"
   ]
  },
  {
   "cell_type": "code",
   "execution_count": 13,
   "metadata": {},
   "outputs": [
    {
     "name": "stdout",
     "output_type": "stream",
     "text": [
      "[missing values]\n",
      "\n",
      "artist: 58392\n",
      "firstName: 8346\n",
      "gender: 8346\n",
      "lastName: 8346\n",
      "length: 58392\n",
      "location: 8346\n",
      "registration: 8346\n",
      "song: 58392\n",
      "userAgent: 8346\n",
      "userId: 8346\n"
     ]
    }
   ],
   "source": [
    "print(\"[missing values]\\n\")\n",
    "for col in df.columns:\n",
    "    missing_count = count_missing(df, col)\n",
    "    if missing_count > 0:\n",
    "        print(\"{}: {}\".format(col, missing_count))"
   ]
  },
  {
   "cell_type": "markdown",
   "metadata": {},
   "source": [
    "`userId` and `sessionId`\n",
    "\n",
    "If the below Ids are null or empty, delete those rows:\n",
    "\n",
    "* userId\n",
    "* sessionId"
   ]
  },
  {
   "cell_type": "code",
   "execution_count": 14,
   "metadata": {},
   "outputs": [],
   "source": [
    "df_without_missing_id = df.dropna(how = \"any\", subset = [\"userId\", \"sessionId\"])\n",
    "df_without_missing_id = df_without_missing_id.filter(df[\"userId\"] != \"\") # `userId` should not be empty string"
   ]
  },
  {
   "cell_type": "code",
   "execution_count": 15,
   "metadata": {},
   "outputs": [
    {
     "name": "stdout",
     "output_type": "stream",
     "text": [
      "df:                    286500\n",
      "df_without_missing_id: 278154\n",
      "8346 rows have been removed.\n"
     ]
    }
   ],
   "source": [
    "print(\"df:                    {}\".format(df.count()))\n",
    "print(\"df_without_missing_id: {}\".format(df_without_missing_id.count())) # no missing values\n",
    "\n",
    "if df.count() == df_without_missing_id.count():\n",
    "    print(\"No missing values with userId and sessionId\")\n",
    "else:\n",
    "    print(\"{} rows have been removed.\".format(df.count() - df_without_missing_id.count()))"
   ]
  },
  {
   "cell_type": "markdown",
   "metadata": {},
   "source": [
    "# Exploratory Data Analysis\n",
    "When you're working with the full dataset, perform EDA by loading a small subset of the data and doing basic manipulations within Spark. In this workspace, you are already provided a small subset of data you can explore."
   ]
  },
  {
   "cell_type": "markdown",
   "metadata": {},
   "source": [
    "Detect number columns and category columns.\n",
    "\n",
    "* num_cols: Number columns (Long or Double)\n",
    "* cat_cols: Category columns (String)"
   ]
  },
  {
   "cell_type": "code",
   "execution_count": 16,
   "metadata": {},
   "outputs": [],
   "source": [
    "num_cols = []\n",
    "cat_cols = []\n",
    "\n",
    "for s in df.schema:\n",
    "    data_type = str(s.dataType)\n",
    "    if data_type == \"StringType\":\n",
    "        cat_cols.append(s.name)\n",
    "    \n",
    "    if data_type == \"LongType\" or data_type == \"DoubleType\":\n",
    "        num_cols.append(s.name)"
   ]
  },
  {
   "cell_type": "code",
   "execution_count": 17,
   "metadata": {},
   "outputs": [
    {
     "data": {
      "text/plain": [
       "['itemInSession', 'length', 'registration', 'sessionId', 'status', 'ts']"
      ]
     },
     "execution_count": 17,
     "metadata": {},
     "output_type": "execute_result"
    }
   ],
   "source": [
    "num_cols"
   ]
  },
  {
   "cell_type": "code",
   "execution_count": 18,
   "metadata": {},
   "outputs": [
    {
     "data": {
      "text/plain": [
       "['artist',\n",
       " 'auth',\n",
       " 'firstName',\n",
       " 'gender',\n",
       " 'lastName',\n",
       " 'level',\n",
       " 'location',\n",
       " 'method',\n",
       " 'page',\n",
       " 'song',\n",
       " 'userAgent',\n",
       " 'userId']"
      ]
     },
     "execution_count": 18,
     "metadata": {},
     "output_type": "execute_result"
    }
   ],
   "source": [
    "cat_cols"
   ]
  },
  {
   "cell_type": "markdown",
   "metadata": {},
   "source": [
    "## Number columns"
   ]
  },
  {
   "cell_type": "code",
   "execution_count": 19,
   "metadata": {},
   "outputs": [
    {
     "name": "stdout",
     "output_type": "stream",
     "text": [
      "+-------+------------------+------------------+--------------------+------------------+------------------+--------------------+\n",
      "|summary|     itemInSession|            length|        registration|         sessionId|            status|                  ts|\n",
      "+-------+------------------+------------------+--------------------+------------------+------------------+--------------------+\n",
      "|  count|            278154|            228108|              278154|            278154|            278154|              278154|\n",
      "|   mean|114.89918174824018|249.11718197783722|1.535358834085557E12|1042.5616241362698|209.10321620397335|1.540958915431857...|\n",
      "| stddev|129.85172939949013| 99.23517921058324| 3.291321616328068E9| 726.5010362219821|30.151388851327823|1.5068287123347573E9|\n",
      "|    min|                 0|           0.78322|       1521380675000|                 1|               200|       1538352117000|\n",
      "|    max|              1321|        3024.66567|       1543247354000|              2474|               404|       1543799476000|\n",
      "+-------+------------------+------------------+--------------------+------------------+------------------+--------------------+\n",
      "\n"
     ]
    }
   ],
   "source": [
    "df_without_missing_id.describe(num_cols).show()"
   ]
  },
  {
   "cell_type": "markdown",
   "metadata": {},
   "source": [
    "There are three HTTP status codes:\n",
    "\n",
    "* 307: Temporary Redirect\n",
    "* 404: Not Found\n",
    "* 200: OK"
   ]
  },
  {
   "cell_type": "code",
   "execution_count": 21,
   "metadata": {},
   "outputs": [
    {
     "name": "stdout",
     "output_type": "stream",
     "text": [
      "+------+\n",
      "|status|\n",
      "+------+\n",
      "|   307|\n",
      "|   404|\n",
      "|   200|\n",
      "+------+\n",
      "\n"
     ]
    }
   ],
   "source": [
    "df_without_missing_id.select(\"status\").dropDuplicates().show()"
   ]
  },
  {
   "cell_type": "markdown",
   "metadata": {},
   "source": [
    "### Category columns"
   ]
  },
  {
   "cell_type": "markdown",
   "metadata": {},
   "source": [
    "auth"
   ]
  },
  {
   "cell_type": "code",
   "execution_count": 22,
   "metadata": {},
   "outputs": [
    {
     "name": "stdout",
     "output_type": "stream",
     "text": [
      "+---------+\n",
      "|     auth|\n",
      "+---------+\n",
      "|Cancelled|\n",
      "|Logged In|\n",
      "+---------+\n",
      "\n"
     ]
    }
   ],
   "source": [
    "df_without_missing_id.select(\"auth\").dropDuplicates().show()"
   ]
  },
  {
   "cell_type": "markdown",
   "metadata": {},
   "source": [
    "gender"
   ]
  },
  {
   "cell_type": "code",
   "execution_count": 23,
   "metadata": {},
   "outputs": [
    {
     "name": "stdout",
     "output_type": "stream",
     "text": [
      "+------+\n",
      "|gender|\n",
      "+------+\n",
      "|     F|\n",
      "|     M|\n",
      "+------+\n",
      "\n"
     ]
    }
   ],
   "source": [
    "df_without_missing_id.select(\"gender\").dropDuplicates().show()"
   ]
  },
  {
   "cell_type": "markdown",
   "metadata": {},
   "source": [
    "level"
   ]
  },
  {
   "cell_type": "code",
   "execution_count": 24,
   "metadata": {},
   "outputs": [
    {
     "name": "stdout",
     "output_type": "stream",
     "text": [
      "+-----+\n",
      "|level|\n",
      "+-----+\n",
      "| free|\n",
      "| paid|\n",
      "+-----+\n",
      "\n"
     ]
    }
   ],
   "source": [
    "df_without_missing_id.select(\"level\").dropDuplicates().show()"
   ]
  },
  {
   "cell_type": "markdown",
   "metadata": {},
   "source": [
    "location (only showing top 10)"
   ]
  },
  {
   "cell_type": "code",
   "execution_count": 25,
   "metadata": {},
   "outputs": [
    {
     "name": "stdout",
     "output_type": "stream",
     "text": [
      "+--------------------+\n",
      "|            location|\n",
      "+--------------------+\n",
      "|     Gainesville, FL|\n",
      "|Atlantic City-Ham...|\n",
      "|Deltona-Daytona B...|\n",
      "|San Diego-Carlsba...|\n",
      "|Cleveland-Elyria, OH|\n",
      "|Kingsport-Bristol...|\n",
      "|New Haven-Milford...|\n",
      "|Birmingham-Hoover...|\n",
      "|  Corpus Christi, TX|\n",
      "|         Dubuque, IA|\n",
      "+--------------------+\n",
      "only showing top 10 rows\n",
      "\n"
     ]
    }
   ],
   "source": [
    "df_without_missing_id.select(\"location\").dropDuplicates().show(10)"
   ]
  },
  {
   "cell_type": "markdown",
   "metadata": {},
   "source": [
    "method"
   ]
  },
  {
   "cell_type": "code",
   "execution_count": 26,
   "metadata": {},
   "outputs": [
    {
     "name": "stdout",
     "output_type": "stream",
     "text": [
      "+------+\n",
      "|method|\n",
      "+------+\n",
      "|   PUT|\n",
      "|   GET|\n",
      "+------+\n",
      "\n"
     ]
    }
   ],
   "source": [
    "df_without_missing_id.select(\"method\").dropDuplicates().show()"
   ]
  },
  {
   "cell_type": "markdown",
   "metadata": {},
   "source": [
    "page"
   ]
  },
  {
   "cell_type": "code",
   "execution_count": 27,
   "metadata": {},
   "outputs": [
    {
     "name": "stdout",
     "output_type": "stream",
     "text": [
      "+--------------------+\n",
      "|                page|\n",
      "+--------------------+\n",
      "|              Cancel|\n",
      "|    Submit Downgrade|\n",
      "|         Thumbs Down|\n",
      "|                Home|\n",
      "|           Downgrade|\n",
      "|         Roll Advert|\n",
      "|              Logout|\n",
      "|       Save Settings|\n",
      "|Cancellation Conf...|\n",
      "|               About|\n",
      "|            Settings|\n",
      "|     Add to Playlist|\n",
      "|          Add Friend|\n",
      "|            NextSong|\n",
      "|           Thumbs Up|\n",
      "|                Help|\n",
      "|             Upgrade|\n",
      "|               Error|\n",
      "|      Submit Upgrade|\n",
      "+--------------------+\n",
      "\n"
     ]
    }
   ],
   "source": [
    "df_without_missing_id.select(\"page\").dropDuplicates().show()"
   ]
  },
  {
   "cell_type": "markdown",
   "metadata": {},
   "source": [
    "userAgent (only showing top 10)"
   ]
  },
  {
   "cell_type": "code",
   "execution_count": 28,
   "metadata": {},
   "outputs": [
    {
     "name": "stdout",
     "output_type": "stream",
     "text": [
      "+--------------------+\n",
      "|           userAgent|\n",
      "+--------------------+\n",
      "|\"Mozilla/5.0 (Mac...|\n",
      "|\"Mozilla/5.0 (Win...|\n",
      "|Mozilla/5.0 (X11;...|\n",
      "|\"Mozilla/5.0 (Mac...|\n",
      "|\"Mozilla/5.0 (Mac...|\n",
      "|Mozilla/5.0 (Maci...|\n",
      "|Mozilla/5.0 (Wind...|\n",
      "|Mozilla/5.0 (Wind...|\n",
      "|Mozilla/5.0 (comp...|\n",
      "|\"Mozilla/5.0 (Win...|\n",
      "+--------------------+\n",
      "only showing top 10 rows\n",
      "\n"
     ]
    }
   ],
   "source": [
    "df_without_missing_id.select(\"userAgent\").dropDuplicates().show(10)"
   ]
  },
  {
   "cell_type": "markdown",
   "metadata": {},
   "source": [
    "### Define Churn\n",
    "\n",
    "Once you've done some preliminary analysis, create a column `Churn` to use as the label for your model. I suggest using the `Cancellation Confirmation` events to define your churn, which happen for both paid and free users. As a bonus task, you can also look into the `Downgrade` events."
   ]
  },
  {
   "cell_type": "markdown",
   "metadata": {},
   "source": [
    "churn: `Cancellation Confirmation`"
   ]
  },
  {
   "cell_type": "code",
   "execution_count": 29,
   "metadata": {},
   "outputs": [
    {
     "name": "stdout",
     "output_type": "stream",
     "text": [
      "+------+---------+---------+------+-------------+--------+------+-----+--------------------+------+--------------------+-------------+---------+----+------+-------------+--------------------+------+\n",
      "|artist|     auth|firstName|gender|itemInSession|lastName|length|level|            location|method|                page| registration|sessionId|song|status|           ts|           userAgent|userId|\n",
      "+------+---------+---------+------+-------------+--------+------+-----+--------------------+------+--------------------+-------------+---------+----+------+-------------+--------------------+------+\n",
      "|  null|Cancelled|   Adriel|     M|          104| Mendoza|  null| paid|  Kansas City, MO-KS|   GET|Cancellation Conf...|1535623466000|      514|null|   200|1538943990000|\"Mozilla/5.0 (Mac...|    18|\n",
      "|  null|Cancelled|    Diego|     M|           56|   Mckee|  null| paid|Phoenix-Mesa-Scot...|   GET|Cancellation Conf...|1537167593000|      540|null|   200|1539033046000|\"Mozilla/5.0 (iPh...|    32|\n",
      "|  null|Cancelled|    Mason|     M|           10|    Hart|  null| free|  Corpus Christi, TX|   GET|Cancellation Conf...|1533157139000|      174|null|   200|1539318918000|\"Mozilla/5.0 (Mac...|   125|\n",
      "|  null|Cancelled|Alexander|     M|          332|  Garcia|  null| paid|Indianapolis-Carm...|   GET|Cancellation Conf...|1536817381000|      508|null|   200|1539375441000|Mozilla/5.0 (Wind...|   105|\n",
      "|  null|Cancelled|    Kayla|     F|          273| Johnson|  null| paid|Philadelphia-Camd...|   GET|Cancellation Conf...|1538333829000|      797|null|   200|1539465584000|Mozilla/5.0 (Wind...|    17|\n",
      "|  null|Cancelled|    Molly|     F|           29|Harrison|  null| free|Virginia Beach-No...|   GET|Cancellation Conf...|1534255113000|      843|null|   200|1539588854000|\"Mozilla/5.0 (Mac...|   143|\n",
      "|  null|Cancelled|     Alex|     M|          145|   Hogan|  null| paid|Denver-Aurora-Lak...|   GET|Cancellation Conf...|1535066380000|      842|null|   200|1539729037000|Mozilla/5.0 (Wind...|   101|\n",
      "|  null|Cancelled|    Davis|     M|           34|    Wang|  null| paid|           Flint, MI|   GET|Cancellation Conf...|1538289776000|      802|null|   200|1539736161000|\"Mozilla/5.0 (Win...|   129|\n",
      "|  null|Cancelled|  Nikolas|     M|          287|   Olsen|  null| paid|Oxnard-Thousand O...|   GET|Cancellation Conf...|1528403713000|      881|null|   200|1539759749000|Mozilla/5.0 (X11;...|   121|\n",
      "|  null|Cancelled|    Ethan|     M|          176| Johnson|  null| paid|Lexington-Fayette...|   GET|Cancellation Conf...|1538080987000|      934|null|   200|1539761972000|\"Mozilla/5.0 (Win...|    51|\n",
      "+------+---------+---------+------+-------------+--------+------+-----+--------------------+------+--------------------+-------------+---------+----+------+-------------+--------------------+------+\n",
      "only showing top 10 rows\n",
      "\n"
     ]
    }
   ],
   "source": [
    "df_without_missing_id.filter(\"page = 'Cancellation Confirmation'\").show(10)"
   ]
  },
  {
   "cell_type": "code",
   "execution_count": 30,
   "metadata": {},
   "outputs": [],
   "source": [
    "flag_churned_event = udf(lambda x: 1 if x == \"Cancellation Confirmation\" else 0, IntegerType())\n",
    "df_churned = df_without_missing_id.withColumn(\"churned\", flag_churned_event(\"page\"))"
   ]
  },
  {
   "cell_type": "markdown",
   "metadata": {},
   "source": [
    "churned rate (from total event logs)"
   ]
  },
  {
   "cell_type": "code",
   "execution_count": 31,
   "metadata": {},
   "outputs": [
    {
     "name": "stdout",
     "output_type": "stream",
     "text": [
      "churned: 23.11%\n"
     ]
    }
   ],
   "source": [
    "churned_rate = df_churned.groupby(\"userId\").agg({\"churned\": \"sum\"}).select(avg(\"sum(churned)\")).collect()[0][\"avg(sum(churned))\"]\n",
    "print(\"churned: {:.2f}%\".format(churned_rate * 100))"
   ]
  },
  {
   "cell_type": "code",
   "execution_count": 32,
   "metadata": {},
   "outputs": [
    {
     "name": "stdout",
     "output_type": "stream",
     "text": [
      "+------+------+-----+---------------+------+-------------+-------+\n",
      "|userId|gender|level|           page|status|           ts|churned|\n",
      "+------+------+-----+---------------+------+-------------+-------+\n",
      "|    30|     M| paid|       NextSong|   200|1538352117000|      0|\n",
      "|     9|     M| free|       NextSong|   200|1538352180000|      0|\n",
      "|    30|     M| paid|       NextSong|   200|1538352394000|      0|\n",
      "|     9|     M| free|       NextSong|   200|1538352416000|      0|\n",
      "|    30|     M| paid|       NextSong|   200|1538352676000|      0|\n",
      "|     9|     M| free|       NextSong|   200|1538352678000|      0|\n",
      "|     9|     M| free|       NextSong|   200|1538352886000|      0|\n",
      "|    30|     M| paid|       NextSong|   200|1538352899000|      0|\n",
      "|    30|     M| paid|Add to Playlist|   200|1538352905000|      0|\n",
      "|    30|     M| paid|       NextSong|   200|1538353084000|      0|\n",
      "|     9|     M| free|       NextSong|   200|1538353146000|      0|\n",
      "|     9|     M| free|    Roll Advert|   200|1538353150000|      0|\n",
      "|    30|     M| paid|       NextSong|   200|1538353218000|      0|\n",
      "|     9|     M| free|       NextSong|   200|1538353375000|      0|\n",
      "|     9|     M| free|      Thumbs Up|   307|1538353376000|      0|\n",
      "|    30|     M| paid|       NextSong|   200|1538353441000|      0|\n",
      "|     9|     M| free|       NextSong|   200|1538353576000|      0|\n",
      "|    74|     F| free|       NextSong|   200|1538353668000|      0|\n",
      "|    30|     M| paid|       NextSong|   200|1538353687000|      0|\n",
      "|     9|     M| free|       NextSong|   200|1538353744000|      0|\n",
      "|    74|     F| free|       NextSong|   200|1538353834000|      0|\n",
      "|    30|     M| paid|       NextSong|   200|1538353909000|      0|\n",
      "|    54|     F| paid|       NextSong|   200|1538353930000|      0|\n",
      "|     9|     M| free|       NextSong|   200|1538353973000|      0|\n",
      "|    74|     F| free|       NextSong|   200|1538354117000|      0|\n",
      "|    30|     M| paid|       NextSong|   200|1538354132000|      0|\n",
      "|    54|     F| paid|       NextSong|   200|1538354180000|      0|\n",
      "|     9|     M| free|       NextSong|   200|1538354204000|      0|\n",
      "|    74|     F| free|       NextSong|   200|1538354291000|      0|\n",
      "|    30|     M| paid|       NextSong|   200|1538354365000|      0|\n",
      "+------+------+-----+---------------+------+-------------+-------+\n",
      "only showing top 30 rows\n",
      "\n"
     ]
    }
   ],
   "source": [
    "df_churned.select([\"userId\", \"gender\", \"level\", \"page\", \"status\", \"ts\", \"churned\"]).show(30)"
   ]
  },
  {
   "cell_type": "code",
   "execution_count": 36,
   "metadata": {},
   "outputs": [],
   "source": [
    "windowval = Window.partitionBy(\"userId\").orderBy(asc(\"ts\")).rangeBetween(Window.unboundedPreceding, 0)\n",
    "df_phase = df_churned.withColumn(\"phase\", Fsum('churned').over(windowval))\n",
    "df_churn = df_phase.withColumn(\"churn\", Fmax('churned').over(Window.partitionBy(\"userId\")))"
   ]
  },
  {
   "cell_type": "code",
   "execution_count": 37,
   "metadata": {},
   "outputs": [
    {
     "name": "stdout",
     "output_type": "stream",
     "text": [
      "+------+------+-----+-----------+------+-------------+-------+-----+-----+\n",
      "|userId|gender|level|       page|status|           ts|churned|phase|churn|\n",
      "+------+------+-----+-----------+------+-------------+-------+-----+-----+\n",
      "|100010|     F| free|   NextSong|   200|1539003534000|      0|    0|    0|\n",
      "|100010|     F| free|   NextSong|   200|1539003736000|      0|    0|    0|\n",
      "|100010|     F| free|   NextSong|   200|1539003932000|      0|    0|    0|\n",
      "|100010|     F| free|  Thumbs Up|   307|1539003933000|      0|    0|    0|\n",
      "|100010|     F| free|   NextSong|   200|1539004195000|      0|    0|    0|\n",
      "|100010|     F| free|   NextSong|   200|1539004511000|      0|    0|    0|\n",
      "|100010|     F| free|   NextSong|   200|1539004694000|      0|    0|    0|\n",
      "|100010|     F| free|   NextSong|   200|1539004918000|      0|    0|    0|\n",
      "|100010|     F| free|Roll Advert|   200|1539004961000|      0|    0|    0|\n",
      "|100010|     F| free|   NextSong|   200|1539005157000|      0|    0|    0|\n",
      "|100010|     F| free|   NextSong|   200|1539005299000|      0|    0|    0|\n",
      "|100010|     F| free|   NextSong|   200|1539005548000|      0|    0|    0|\n",
      "|100010|     F| free|Roll Advert|   200|1539005571000|      0|    0|    0|\n",
      "|100010|     F| free|   NextSong|   200|1539005600000|      0|    0|    0|\n",
      "|100010|     F| free|  Thumbs Up|   307|1539005601000|      0|    0|    0|\n",
      "|100010|     F| free|   NextSong|   200|1539005762000|      0|    0|    0|\n",
      "|100010|     F| free|   NextSong|   200|1539006085000|      0|    0|    0|\n",
      "|100010|     F| free|Roll Advert|   200|1539006103000|      0|    0|    0|\n",
      "|100010|     F| free|   NextSong|   200|1539006330000|      0|    0|    0|\n",
      "|100010|     F| free|Roll Advert|   200|1539006331000|      0|    0|    0|\n",
      "+------+------+-----+-----------+------+-------------+-------+-----+-----+\n",
      "only showing top 20 rows\n",
      "\n"
     ]
    }
   ],
   "source": [
    "df_churn.select([\"userId\", \"gender\", \"level\", \"page\", \"status\", \"ts\", \"churned\", \"phase\", \"churn\"]).show(20)"
   ]
  },
  {
   "cell_type": "code",
   "execution_count": 38,
   "metadata": {},
   "outputs": [
    {
     "name": "stdout",
     "output_type": "stream",
     "text": [
      "+------+------+-----+--------------------+------+-------------+-------+-----+-----+\n",
      "|userId|gender|level|                page|status|           ts|churned|phase|churn|\n",
      "+------+------+-----+--------------------+------+-------------+-------+-----+-----+\n",
      "|   125|     M| free|            NextSong|   200|1539317144000|      0|    0|    1|\n",
      "|   125|     M| free|            NextSong|   200|1539317481000|      0|    0|    1|\n",
      "|   125|     M| free|            NextSong|   200|1539317711000|      0|    0|    1|\n",
      "|   125|     M| free|            NextSong|   200|1539317914000|      0|    0|    1|\n",
      "|   125|     M| free|            NextSong|   200|1539318124000|      0|    0|    1|\n",
      "|   125|     M| free|            NextSong|   200|1539318515000|      0|    0|    1|\n",
      "|   125|     M| free|            NextSong|   200|1539318728000|      0|    0|    1|\n",
      "|   125|     M| free|            NextSong|   200|1539318906000|      0|    0|    1|\n",
      "|   125|     M| free|         Roll Advert|   200|1539318917000|      0|    0|    1|\n",
      "|   125|     M| free|              Cancel|   307|1539318918000|      0|    1|    1|\n",
      "|   125|     M| free|Cancellation Conf...|   200|1539318918000|      1|    1|    1|\n",
      "|    51|     M| paid|                Home|   200|1538398632000|      0|    0|    1|\n",
      "|    51|     M| paid|            NextSong|   200|1538398649000|      0|    0|    1|\n",
      "|    51|     M| paid|            NextSong|   200|1538398938000|      0|    0|    1|\n",
      "|    51|     M| paid|            NextSong|   200|1538399167000|      0|    0|    1|\n",
      "|    51|     M| paid|            NextSong|   200|1538399351000|      0|    0|    1|\n",
      "|    51|     M| paid|            NextSong|   200|1538399495000|      0|    0|    1|\n",
      "|    51|     M| paid|            NextSong|   200|1538399843000|      0|    0|    1|\n",
      "|    51|     M| paid|            NextSong|   200|1538400086000|      0|    0|    1|\n",
      "|    51|     M| paid|            NextSong|   200|1538400309000|      0|    0|    1|\n",
      "+------+------+-----+--------------------+------+-------------+-------+-----+-----+\n",
      "only showing top 20 rows\n",
      "\n"
     ]
    }
   ],
   "source": [
    "df_churn.filter(df_churn[\"churn\"] == 1).select([\"userId\", \"gender\", \"level\", \"page\", \"status\", \"ts\", \"churned\", \"phase\", \"churn\"]).show(20)"
   ]
  },
  {
   "cell_type": "markdown",
   "metadata": {},
   "source": [
    "52 userIds were churned"
   ]
  },
  {
   "cell_type": "code",
   "execution_count": 39,
   "metadata": {},
   "outputs": [
    {
     "name": "stdout",
     "output_type": "stream",
     "text": [
      "churned user count: 52 (total: 278154)\n",
      "churned user rate: 0.02%\n"
     ]
    }
   ],
   "source": [
    "churned_user_count = df_churn.filter(df_churn[\"churn\"] == 1).select(\"userId\").dropDuplicates().count()\n",
    "print(\"churned user count: {} (total: {})\".format(churned_user_count, df_churn.count()))\n",
    "print(\"churned user rate: {:.2f}%\".format(churned_user_count / df_churn.count() * 100))"
   ]
  },
  {
   "cell_type": "markdown",
   "metadata": {},
   "source": [
    "### Explore Data\n",
    "Once you've defined churn, perform some exploratory data analysis to observe the behavior for users who stayed vs users who churned. You can start by exploring aggregates on these two groups of users, observing how much of a specific action they experienced per a certain time unit or number of songs played."
   ]
  },
  {
   "cell_type": "markdown",
   "metadata": {},
   "source": [
    "<font color=\"red\">TODO: not yet done</font>"
   ]
  },
  {
   "cell_type": "code",
   "execution_count": null,
   "metadata": {},
   "outputs": [],
   "source": []
  },
  {
   "cell_type": "code",
   "execution_count": null,
   "metadata": {},
   "outputs": [],
   "source": []
  },
  {
   "cell_type": "markdown",
   "metadata": {},
   "source": [
    "# Feature Engineering\n",
    "Once you've familiarized yourself with the data, build out the features you find promising to train your model on. To work with the full dataset, you can follow the following steps.\n",
    "- Write a script to extract the necessary features from the smaller subset of data\n",
    "- Ensure that your script is scalable, using the best practices discussed in Lesson 3\n",
    "- Try your script on the full data set, debugging your script if necessary\n",
    "\n",
    "If you are working in the classroom workspace, you can just extract features based on the small subset of data contained here. Be sure to transfer over this work to the larger dataset when you work on your Spark cluster."
   ]
  },
  {
   "cell_type": "markdown",
   "metadata": {},
   "source": [
    "### Ideas\n",
    "\n",
    "* artist\n",
    "  * [x] the number of artist\n",
    "* gender: 0 or 1\n",
    "* length\n",
    "  * the total length\n",
    "* level: 0 or 1\n",
    "* page\n",
    "  * the number of `Thumbs Up`\n",
    "  * the number of `Thumbs Down`\n",
    "  * TODO: more\n",
    "* song\n",
    "  * [x] the number of song\n",
    "* ts\n",
    "  * time since registration\n",
    "  * recent activity count (1 day)\n",
    "  * recent activity count (1 week)\n",
    "  * recent activity count (1 month)"
   ]
  },
  {
   "cell_type": "code",
   "execution_count": 40,
   "metadata": {},
   "outputs": [
    {
     "name": "stdout",
     "output_type": "stream",
     "text": [
      "+--------------------+---------+---------+------+-------------+---------+---------+-----+--------------------+------+--------+-------------+---------+--------------------+------+-------------+--------------------+------+-------+-----+-----+\n",
      "|              artist|     auth|firstName|gender|itemInSession| lastName|   length|level|            location|method|    page| registration|sessionId|                song|status|           ts|           userAgent|userId|churned|phase|churn|\n",
      "+--------------------+---------+---------+------+-------------+---------+---------+-----+--------------------+------+--------+-------------+---------+--------------------+------+-------------+--------------------+------+-------+-----+-----+\n",
      "|Sleeping With Sirens|Logged In| Darianna|     F|            0|Carpenter|202.97098| free|Bridgeport-Stamfo...|   PUT|NextSong|1538016340000|       31|Captain Tyin Knot...|   200|1539003534000|\"Mozilla/5.0 (iPh...|100010|      0|    0|    0|\n",
      "+--------------------+---------+---------+------+-------------+---------+---------+-----+--------------------+------+--------+-------------+---------+--------------------+------+-------------+--------------------+------+-------+-----+-----+\n",
      "only showing top 1 row\n",
      "\n"
     ]
    }
   ],
   "source": [
    "df_churn.show(1)"
   ]
  },
  {
   "cell_type": "markdown",
   "metadata": {},
   "source": [
    "Original dataframe to be merged later"
   ]
  },
  {
   "cell_type": "code",
   "execution_count": 41,
   "metadata": {},
   "outputs": [],
   "source": [
    "df_original = df_churn.groupby('userId').max(\"churn\").withColumnRenamed(\"max(churn)\", \"target\")"
   ]
  },
  {
   "cell_type": "code",
   "execution_count": 42,
   "metadata": {},
   "outputs": [
    {
     "name": "stdout",
     "output_type": "stream",
     "text": [
      "+------+------+\n",
      "|userId|target|\n",
      "+------+------+\n",
      "|100010|     0|\n",
      "|200002|     0|\n",
      "|   125|     1|\n",
      "|   124|     0|\n",
      "|    51|     1|\n",
      "|     7|     0|\n",
      "|    15|     0|\n",
      "|    54|     1|\n",
      "|   155|     0|\n",
      "|100014|     1|\n",
      "+------+------+\n",
      "only showing top 10 rows\n",
      "\n"
     ]
    }
   ],
   "source": [
    "df_original.show(10)"
   ]
  },
  {
   "cell_type": "markdown",
   "metadata": {},
   "source": [
    "artist count per userId"
   ]
  },
  {
   "cell_type": "code",
   "execution_count": 43,
   "metadata": {},
   "outputs": [
    {
     "name": "stdout",
     "output_type": "stream",
     "text": [
      "+------+------------+\n",
      "|userId|artist_count|\n",
      "+------+------------+\n",
      "|100010|         275|\n",
      "|200002|         387|\n",
      "|   125|           8|\n",
      "|    51|        2111|\n",
      "|   124|        4079|\n",
      "+------+------------+\n",
      "only showing top 5 rows\n",
      "\n"
     ]
    }
   ],
   "source": [
    "user_artist = df_churn.groupby(\"userId\").agg({\"artist\": \"count\"}).withColumnRenamed(\"count(artist)\", \"artist_count\")\n",
    "user_artist.show(5)"
   ]
  },
  {
   "cell_type": "markdown",
   "metadata": {},
   "source": [
    "gender"
   ]
  },
  {
   "cell_type": "code",
   "execution_count": 44,
   "metadata": {},
   "outputs": [
    {
     "name": "stdout",
     "output_type": "stream",
     "text": [
      "+--------------------+---------+---------+------+-------------+---------+---------+-----+--------------------+------+--------+-------------+---------+--------------------+------+-------------+--------------------+------+-------+-----+-----+\n",
      "|              artist|     auth|firstName|gender|itemInSession| lastName|   length|level|            location|method|    page| registration|sessionId|                song|status|           ts|           userAgent|userId|churned|phase|churn|\n",
      "+--------------------+---------+---------+------+-------------+---------+---------+-----+--------------------+------+--------+-------------+---------+--------------------+------+-------------+--------------------+------+-------+-----+-----+\n",
      "|Sleeping With Sirens|Logged In| Darianna|     1|            0|Carpenter|202.97098| free|Bridgeport-Stamfo...|   PUT|NextSong|1538016340000|       31|Captain Tyin Knot...|   200|1539003534000|\"Mozilla/5.0 (iPh...|100010|      0|    0|    0|\n",
      "+--------------------+---------+---------+------+-------------+---------+---------+-----+--------------------+------+--------+-------------+---------+--------------------+------+-------------+--------------------+------+-------+-----+-----+\n",
      "only showing top 1 row\n",
      "\n"
     ]
    }
   ],
   "source": [
    "flag_gender = udf(lambda x: 1 if x == \"F\" else 0, IntegerType())\n",
    "df_churn_with_gender = df_churn.withColumn(\"gender\", flag_gender(\"gender\"))\n",
    "df_churn_with_gender.show(1)"
   ]
  },
  {
   "cell_type": "code",
   "execution_count": 45,
   "metadata": {},
   "outputs": [
    {
     "name": "stdout",
     "output_type": "stream",
     "text": [
      "+------+------+\n",
      "|userId|gender|\n",
      "+------+------+\n",
      "|100010|     1|\n",
      "|200002|     0|\n",
      "|   125|     0|\n",
      "|    51|     0|\n",
      "|   124|     1|\n",
      "+------+------+\n",
      "only showing top 5 rows\n",
      "\n"
     ]
    }
   ],
   "source": [
    "user_gender = df_churn_with_gender.groupby('userId').agg({\"gender\": \"max\"}).withColumnRenamed(\"max(gender)\", \"gender\")\n",
    "user_gender.show(5)"
   ]
  },
  {
   "cell_type": "markdown",
   "metadata": {},
   "source": [
    "level"
   ]
  },
  {
   "cell_type": "code",
   "execution_count": 46,
   "metadata": {},
   "outputs": [
    {
     "name": "stdout",
     "output_type": "stream",
     "text": [
      "+--------------------+---------+---------+------+-------------+---------+---------+-----+--------------------+------+--------+-------------+---------+--------------------+------+-------------+--------------------+------+-------+-----+-----+\n",
      "|              artist|     auth|firstName|gender|itemInSession| lastName|   length|level|            location|method|    page| registration|sessionId|                song|status|           ts|           userAgent|userId|churned|phase|churn|\n",
      "+--------------------+---------+---------+------+-------------+---------+---------+-----+--------------------+------+--------+-------------+---------+--------------------+------+-------------+--------------------+------+-------+-----+-----+\n",
      "|Sleeping With Sirens|Logged In| Darianna|     F|            0|Carpenter|202.97098|    0|Bridgeport-Stamfo...|   PUT|NextSong|1538016340000|       31|Captain Tyin Knot...|   200|1539003534000|\"Mozilla/5.0 (iPh...|100010|      0|    0|    0|\n",
      "+--------------------+---------+---------+------+-------------+---------+---------+-----+--------------------+------+--------+-------------+---------+--------------------+------+-------------+--------------------+------+-------+-----+-----+\n",
      "only showing top 1 row\n",
      "\n"
     ]
    }
   ],
   "source": [
    "flag_level = udf(lambda x: 1 if x == \"paid\" else 0, IntegerType())\n",
    "df_churn_with_level = df_churn.withColumn(\"level\", flag_level(\"level\"))\n",
    "df_churn_with_level.show(1)"
   ]
  },
  {
   "cell_type": "code",
   "execution_count": 47,
   "metadata": {},
   "outputs": [
    {
     "name": "stdout",
     "output_type": "stream",
     "text": [
      "+------+-----+\n",
      "|userId|level|\n",
      "+------+-----+\n",
      "|100010|    0|\n",
      "|200002|    1|\n",
      "|   125|    0|\n",
      "|    51|    1|\n",
      "|   124|    1|\n",
      "+------+-----+\n",
      "only showing top 5 rows\n",
      "\n"
     ]
    }
   ],
   "source": [
    "user_level = df_churn_with_level.groupby('userId').agg({\"level\": \"max\"}).withColumnRenamed(\"max(level)\", \"level\")\n",
    "user_level.show(5)"
   ]
  },
  {
   "cell_type": "markdown",
   "metadata": {},
   "source": [
    "song count per userId"
   ]
  },
  {
   "cell_type": "code",
   "execution_count": 48,
   "metadata": {},
   "outputs": [
    {
     "name": "stdout",
     "output_type": "stream",
     "text": [
      "+------+----------+\n",
      "|userId|song_count|\n",
      "+------+----------+\n",
      "|100010|       275|\n",
      "|200002|       387|\n",
      "|   125|         8|\n",
      "|    51|      2111|\n",
      "|   124|      4079|\n",
      "+------+----------+\n",
      "only showing top 5 rows\n",
      "\n"
     ]
    }
   ],
   "source": [
    "user_song = df_churn.groupby(\"userId\").agg({\"song\": \"count\"}).withColumnRenamed(\"count(song)\", \"song_count\")\n",
    "user_song.show(5)"
   ]
  },
  {
   "cell_type": "code",
   "execution_count": null,
   "metadata": {},
   "outputs": [],
   "source": []
  },
  {
   "cell_type": "code",
   "execution_count": null,
   "metadata": {},
   "outputs": [],
   "source": []
  },
  {
   "cell_type": "code",
   "execution_count": null,
   "metadata": {},
   "outputs": [],
   "source": []
  },
  {
   "cell_type": "markdown",
   "metadata": {},
   "source": [
    "Join all the features"
   ]
  },
  {
   "cell_type": "code",
   "execution_count": 50,
   "metadata": {},
   "outputs": [],
   "source": [
    "merged_df = df_original.join(user_artist, ['userId']) \\\n",
    "    .join(user_gender, ['userId']) \\\n",
    "    .join(user_level, ['userId']) \\\n",
    "    .join(user_song, ['userId'])"
   ]
  },
  {
   "cell_type": "code",
   "execution_count": 51,
   "metadata": {},
   "outputs": [
    {
     "name": "stdout",
     "output_type": "stream",
     "text": [
      "+------+------+------------+------+-----+----------+\n",
      "|userId|target|artist_count|gender|level|song_count|\n",
      "+------+------+------------+------+-----+----------+\n",
      "|100010|     0|         275|     1|    0|       275|\n",
      "|200002|     0|         387|     0|    1|       387|\n",
      "|   125|     1|           8|     0|    0|         8|\n",
      "|   124|     0|        4079|     1|    1|      4079|\n",
      "|    51|     1|        2111|     0|    1|      2111|\n",
      "+------+------+------------+------+-----+----------+\n",
      "only showing top 5 rows\n",
      "\n"
     ]
    }
   ],
   "source": [
    "merged_df.show(5)"
   ]
  },
  {
   "cell_type": "markdown",
   "metadata": {},
   "source": [
    "# Modeling\n",
    "Split the full dataset into train, test, and validation sets. Test out several of the machine learning methods you learned. Evaluate the accuracy of the various models, tuning parameters as necessary. Determine your winning model based on test accuracy and report results on the validation set. Since the churned users are a fairly small subset, I suggest using F1 score as the metric to optimize."
   ]
  },
  {
   "cell_type": "markdown",
   "metadata": {},
   "source": [
    "Drop `userId` column"
   ]
  },
  {
   "cell_type": "code",
   "execution_count": 52,
   "metadata": {},
   "outputs": [
    {
     "data": {
      "text/plain": [
       "['artist_count', 'gender', 'level', 'song_count']"
      ]
     },
     "execution_count": 52,
     "metadata": {},
     "output_type": "execute_result"
    }
   ],
   "source": [
    "merged_df_without_user = merged_df.drop(\"userId\")\n",
    "feature_columns = [col for col in merged_df_without_user.columns if col!='target']\n",
    "feature_columns"
   ]
  },
  {
   "cell_type": "markdown",
   "metadata": {},
   "source": [
    "Train/Test split"
   ]
  },
  {
   "cell_type": "code",
   "execution_count": 54,
   "metadata": {},
   "outputs": [],
   "source": [
    "train, test = merged_df_without_user.randomSplit([0.7, 0.3], seed=0)"
   ]
  },
  {
   "cell_type": "markdown",
   "metadata": {},
   "source": [
    "build model"
   ]
  },
  {
   "cell_type": "code",
   "execution_count": 65,
   "metadata": {},
   "outputs": [],
   "source": [
    "MulticlassClassificationEvaluator?"
   ]
  },
  {
   "cell_type": "code",
   "execution_count": 66,
   "metadata": {},
   "outputs": [],
   "source": [
    "def build_model(classifier, param):\n",
    "    assembler = VectorAssembler(inputCols=feature_columns, outputCol=\"features\")\n",
    "    scaler = MinMaxScaler(inputCol=\"features\", outputCol=\"scaled_features\")\n",
    "    pipeline = Pipeline(stages=[assembler, scaler, classifier])\n",
    "\n",
    "    model = CrossValidator(\n",
    "        estimator=pipeline,\n",
    "        estimatorParamMaps=param,\n",
    "        evaluator=MulticlassClassificationEvaluator(labelCol='target', metricName='f1'),\n",
    "        numFolds=5,\n",
    "    )\n",
    "    return model"
   ]
  },
  {
   "cell_type": "code",
   "execution_count": 67,
   "metadata": {},
   "outputs": [],
   "source": [
    "lr = LogisticRegression(featuresCol=\"scaled_features\", labelCol=\"target\")\n",
    "param = ParamGridBuilder().build()\n",
    "model = build_model(lr, param)"
   ]
  },
  {
   "cell_type": "code",
   "execution_count": 68,
   "metadata": {},
   "outputs": [],
   "source": [
    "fit_model = model.fit(train)"
   ]
  },
  {
   "cell_type": "code",
   "execution_count": 76,
   "metadata": {},
   "outputs": [],
   "source": [
    "pred = fit_model.transform(test)"
   ]
  },
  {
   "cell_type": "code",
   "execution_count": 82,
   "metadata": {},
   "outputs": [
    {
     "name": "stdout",
     "output_type": "stream",
     "text": [
      "+------+------------+------+-----+----------+--------------------+--------------------+--------------------+--------------------+----------+\n",
      "|target|artist_count|gender|level|song_count|            features|     scaled_features|       rawPrediction|         probability|prediction|\n",
      "+------+------------+------+-----+----------+--------------------+--------------------+--------------------+--------------------+----------+\n",
      "|     0|         275|     1|    0|       275|[275.0,1.0,0.0,27...|[0.04577583305284...|[1.32578779788806...|[0.79014303358337...|       0.0|\n",
      "|     0|        1914|     0|    1|      1914|[1914.0,0.0,1.0,1...|[0.32160888589700...|[1.12066583211400...|[0.75411220058183...|       0.0|\n",
      "|     0|          84|     1|    0|        84| [84.0,1.0,0.0,84.0]|[0.01363177381353...|[1.27235773379902...|[0.78114608589532...|       0.0|\n",
      "|     0|        3632|     1|    1|      3632|[3632.0,1.0,1.0,3...|[0.61073712554695...|[2.40832105355688...|[0.91745962860552...|       0.0|\n",
      "|     1|         230|     0|    0|       230|[230.0,0.0,0.0,23...|[0.03820262537866...|[0.50613517969631...|[0.62390003427183...|       0.0|\n",
      "|     0|         215|     0|    0|       215|[215.0,0.0,0.0,21...|[0.03567822282059...|[0.50193910136471...|[0.62291491889380...|       0.0|\n",
      "|     0|        3573|     1|    1|      3573|[3573.0,1.0,1.0,3...|[0.60080780881857...|[2.39181647878592...|[0.91620113667105...|       0.0|\n",
      "|     0|         377|     0|    1|       377|[377.0,0.0,1.0,37...|[0.06294177044766...|[0.69070767240271...|[0.66612433350743...|       0.0|\n",
      "|     0|         650|     0|    0|       650|[650.0,0.0,0.0,65...|[0.10888589700437...|[0.62362537298111...|[0.65104263336009...|       0.0|\n",
      "|     0|         251|     1|    0|       251|[251.0,1.0,0.0,25...|[0.04173678895994...|[1.31907407255750...|[0.78902761507620...|       0.0|\n",
      "|     0|          28|     1|    0|        28| [28.0,1.0,0.0,28.0]|[0.00420733759676...|[1.25669237469438...|[0.77845619304043...|       0.0|\n",
      "|     0|        1393|     1|    1|      1393|[1393.0,1.0,1.0,1...|[0.23392797038034...|[1.78198642792670...|[0.85594197624529...|       0.0|\n",
      "|     0|        2401|     0|    1|      2401|[2401.0,0.0,1.0,2...|[0.40356782228205...|[1.25689850861328...|[0.77849174129840...|       0.0|\n",
      "|     0|         505|     1|    1|       505|[505.0,1.0,1.0,50...|[0.08448333894311...|[1.53357859069597...|[0.82252930152659...|       0.0|\n",
      "|     1|         490|     1|    1|       490|[490.0,1.0,1.0,49...|[0.08195893638505...|[1.52938251236437...|[0.82191595043920...|       0.0|\n",
      "|     0|         178|     0|    0|       178|[178.0,0.0,0.0,17...|[0.02945136317738...|[0.49158877481343...|[0.62048063560289...|       0.0|\n",
      "|     0|         246|     1|    0|       246|[246.0,1.0,0.0,24...|[0.04089532144059...|[1.31767537978030...|[0.78879469030328...|       0.0|\n",
      "|     0|        1802|     1|    1|      1802|[1802.0,1.0,1.0,1...|[0.30276001346348...|[1.89639949710166...|[0.86948347678868...|       0.0|\n",
      "|     0|         177|     1|    0|       177|[177.0,1.0,0.0,17...|[0.02928306967351...|[1.29837341945494...|[0.78556110492564...|       0.0|\n",
      "|     0|         161|     0|    0|       161|[161.0,0.0,0.0,16...|[0.02659037361157...|[0.48683321937095...|[0.61936013652378...|       0.0|\n",
      "+------+------------+------+-----+----------+--------------------+--------------------+--------------------+--------------------+----------+\n",
      "only showing top 20 rows\n",
      "\n"
     ]
    }
   ],
   "source": [
    "pred.show(20)"
   ]
  },
  {
   "cell_type": "code",
   "execution_count": 85,
   "metadata": {},
   "outputs": [
    {
     "name": "stdout",
     "output_type": "stream",
     "text": [
      "+------+------------+------+-----+----------+--------------------+--------------------+--------------------+--------------------+----------+\n",
      "|target|artist_count|gender|level|song_count|            features|     scaled_features|       rawPrediction|         probability|prediction|\n",
      "+------+------------+------+-----+----------+--------------------+--------------------+--------------------+--------------------+----------+\n",
      "|     0|         275|     1|    0|       275|[275.0,1.0,0.0,27...|[0.04577583305284...|[1.32578779788806...|[0.79014303358337...|       0.0|\n",
      "|     0|        1914|     0|    1|      1914|[1914.0,0.0,1.0,1...|[0.32160888589700...|[1.12066583211400...|[0.75411220058183...|       0.0|\n",
      "|     0|          84|     1|    0|        84| [84.0,1.0,0.0,84.0]|[0.01363177381353...|[1.27235773379902...|[0.78114608589532...|       0.0|\n",
      "|     0|        3632|     1|    1|      3632|[3632.0,1.0,1.0,3...|[0.61073712554695...|[2.40832105355688...|[0.91745962860552...|       0.0|\n",
      "|     1|         230|     0|    0|       230|[230.0,0.0,0.0,23...|[0.03820262537866...|[0.50613517969631...|[0.62390003427183...|       0.0|\n",
      "|     0|         215|     0|    0|       215|[215.0,0.0,0.0,21...|[0.03567822282059...|[0.50193910136471...|[0.62291491889380...|       0.0|\n",
      "|     0|        3573|     1|    1|      3573|[3573.0,1.0,1.0,3...|[0.60080780881857...|[2.39181647878592...|[0.91620113667105...|       0.0|\n",
      "|     0|         377|     0|    1|       377|[377.0,0.0,1.0,37...|[0.06294177044766...|[0.69070767240271...|[0.66612433350743...|       0.0|\n",
      "|     0|         650|     0|    0|       650|[650.0,0.0,0.0,65...|[0.10888589700437...|[0.62362537298111...|[0.65104263336009...|       0.0|\n",
      "|     0|         251|     1|    0|       251|[251.0,1.0,0.0,25...|[0.04173678895994...|[1.31907407255750...|[0.78902761507620...|       0.0|\n",
      "+------+------------+------+-----+----------+--------------------+--------------------+--------------------+--------------------+----------+\n",
      "only showing top 10 rows\n",
      "\n"
     ]
    }
   ],
   "source": [
    "pred.filter(pred['prediction'] == 0.0).show(10)"
   ]
  },
  {
   "cell_type": "code",
   "execution_count": 86,
   "metadata": {},
   "outputs": [
    {
     "data": {
      "text/plain": [
       "[Row(prediction=0.0)]"
      ]
     },
     "execution_count": 86,
     "metadata": {},
     "output_type": "execute_result"
    }
   ],
   "source": [
    "pred.select(\"prediction\").dropDuplicates().collect()"
   ]
  },
  {
   "cell_type": "code",
   "execution_count": 80,
   "metadata": {},
   "outputs": [
    {
     "name": "stdout",
     "output_type": "stream",
     "text": [
      "f1: 0.7309336332958379\n"
     ]
    }
   ],
   "source": [
    "evaluator = MulticlassClassificationEvaluator(predictionCol=\"prediction\", labelCol=\"target\")\n",
    "f1_score = evaluator.evaluate(pred, {evaluator.metricName: \"f1\"})\n",
    "print(\"f1: {}\".format(f1_score))"
   ]
  },
  {
   "cell_type": "code",
   "execution_count": null,
   "metadata": {},
   "outputs": [],
   "source": []
  },
  {
   "cell_type": "code",
   "execution_count": null,
   "metadata": {},
   "outputs": [],
   "source": []
  },
  {
   "cell_type": "markdown",
   "metadata": {},
   "source": [
    "# Final Steps\n",
    "Clean up your code, adding comments and renaming variables to make the code easier to read and maintain. Refer to the Spark Project Overview page and Data Scientist Capstone Project Rubric to make sure you are including all components of the capstone project and meet all expectations. Remember, this includes thorough documentation in a README file in a Github repository, as well as a web app or blog post."
   ]
  },
  {
   "cell_type": "code",
   "execution_count": null,
   "metadata": {},
   "outputs": [],
   "source": []
  },
  {
   "cell_type": "code",
   "execution_count": null,
   "metadata": {},
   "outputs": [],
   "source": []
  },
  {
   "cell_type": "code",
   "execution_count": null,
   "metadata": {},
   "outputs": [],
   "source": []
  },
  {
   "cell_type": "code",
   "execution_count": null,
   "metadata": {},
   "outputs": [],
   "source": []
  },
  {
   "cell_type": "code",
   "execution_count": null,
   "metadata": {},
   "outputs": [],
   "source": []
  }
 ],
 "metadata": {
  "kernelspec": {
   "display_name": "Python 3",
   "language": "python",
   "name": "python3"
  },
  "language_info": {
   "codemirror_mode": {
    "name": "ipython",
    "version": 3
   },
   "file_extension": ".py",
   "mimetype": "text/x-python",
   "name": "python",
   "nbconvert_exporter": "python",
   "pygments_lexer": "ipython3",
   "version": "3.6.3"
  }
 },
 "nbformat": 4,
 "nbformat_minor": 2
}
