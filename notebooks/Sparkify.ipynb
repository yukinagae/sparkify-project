{
 "cells": [
  {
   "cell_type": "markdown",
   "metadata": {},
   "source": [
    "# Sparkify Project Workspace\n",
    "This workspace contains a tiny subset (128MB) of the full dataset available (12GB). Feel free to use this workspace to build your project, or to explore a smaller subset with Spark before deploying your cluster on the cloud. Instructions for setting up your Spark cluster is included in the last lesson of the Extracurricular Spark Course content.\n",
    "\n",
    "You can follow the steps below to guide your data analysis and model building portion of this project."
   ]
  },
  {
   "cell_type": "code",
   "execution_count": 59,
   "metadata": {},
   "outputs": [],
   "source": [
    "# import libraries\n",
    "from pyspark.sql import SparkSession\n",
    "\n",
    "from pyspark.sql.functions import udf\n",
    "from pyspark.sql.types import StringType\n",
    "from pyspark.sql.types import IntegerType\n",
    "from pyspark.sql.functions import desc\n",
    "from pyspark.sql.functions import asc\n",
    "from pyspark.sql.functions import sum as Fsum\n",
    "\n",
    "from pyspark.sql.functions import col"
   ]
  },
  {
   "cell_type": "code",
   "execution_count": 2,
   "metadata": {},
   "outputs": [],
   "source": [
    "# Create spark session\n",
    "spark = SparkSession \\\n",
    "    .builder \\\n",
    "    .appName(\"Sparkify\") \\\n",
    "    .getOrCreate()"
   ]
  },
  {
   "cell_type": "code",
   "execution_count": 3,
   "metadata": {},
   "outputs": [],
   "source": [
    "# Read in full sparkify dataset\n",
    "event_data = \"../input/mini_sparkify_event_data.json\"\n",
    "df = spark.read.json(event_data)"
   ]
  },
  {
   "cell_type": "code",
   "execution_count": 4,
   "metadata": {},
   "outputs": [
    {
     "data": {
      "text/plain": [
       "Row(artist='Martha Tilston', auth='Logged In', firstName='Colin', gender='M', itemInSession=50, lastName='Freeman', length=277.89016, level='paid', location='Bakersfield, CA', method='PUT', page='NextSong', registration=1538173362000, sessionId=29, song='Rockpools', status=200, ts=1538352117000, userAgent='Mozilla/5.0 (Windows NT 6.1; WOW64; rv:31.0) Gecko/20100101 Firefox/31.0', userId='30')"
      ]
     },
     "execution_count": 4,
     "metadata": {},
     "output_type": "execute_result"
    }
   ],
   "source": [
    "df.head()"
   ]
  },
  {
   "cell_type": "markdown",
   "metadata": {},
   "source": [
    "# Load and Clean Dataset\n",
    "In this workspace, the mini-dataset file is `mini_sparkify_event_data.json`. Load and clean the dataset, checking for invalid or missing data - for example, records without userids or sessionids. "
   ]
  },
  {
   "cell_type": "markdown",
   "metadata": {},
   "source": [
    "The first five rows of the dataset."
   ]
  },
  {
   "cell_type": "code",
   "execution_count": 5,
   "metadata": {},
   "outputs": [
    {
     "data": {
      "text/plain": [
       "[Row(artist='Martha Tilston', auth='Logged In', firstName='Colin', gender='M', itemInSession=50, lastName='Freeman', length=277.89016, level='paid', location='Bakersfield, CA', method='PUT', page='NextSong', registration=1538173362000, sessionId=29, song='Rockpools', status=200, ts=1538352117000, userAgent='Mozilla/5.0 (Windows NT 6.1; WOW64; rv:31.0) Gecko/20100101 Firefox/31.0', userId='30'),\n",
       " Row(artist='Five Iron Frenzy', auth='Logged In', firstName='Micah', gender='M', itemInSession=79, lastName='Long', length=236.09424, level='free', location='Boston-Cambridge-Newton, MA-NH', method='PUT', page='NextSong', registration=1538331630000, sessionId=8, song='Canada', status=200, ts=1538352180000, userAgent='\"Mozilla/5.0 (Windows NT 6.1; WOW64) AppleWebKit/537.36 (KHTML, like Gecko) Chrome/37.0.2062.103 Safari/537.36\"', userId='9'),\n",
       " Row(artist='Adam Lambert', auth='Logged In', firstName='Colin', gender='M', itemInSession=51, lastName='Freeman', length=282.8273, level='paid', location='Bakersfield, CA', method='PUT', page='NextSong', registration=1538173362000, sessionId=29, song='Time For Miracles', status=200, ts=1538352394000, userAgent='Mozilla/5.0 (Windows NT 6.1; WOW64; rv:31.0) Gecko/20100101 Firefox/31.0', userId='30'),\n",
       " Row(artist='Enigma', auth='Logged In', firstName='Micah', gender='M', itemInSession=80, lastName='Long', length=262.71302, level='free', location='Boston-Cambridge-Newton, MA-NH', method='PUT', page='NextSong', registration=1538331630000, sessionId=8, song='Knocking On Forbidden Doors', status=200, ts=1538352416000, userAgent='\"Mozilla/5.0 (Windows NT 6.1; WOW64) AppleWebKit/537.36 (KHTML, like Gecko) Chrome/37.0.2062.103 Safari/537.36\"', userId='9'),\n",
       " Row(artist='Daft Punk', auth='Logged In', firstName='Colin', gender='M', itemInSession=52, lastName='Freeman', length=223.60771, level='paid', location='Bakersfield, CA', method='PUT', page='NextSong', registration=1538173362000, sessionId=29, song='Harder Better Faster Stronger', status=200, ts=1538352676000, userAgent='Mozilla/5.0 (Windows NT 6.1; WOW64; rv:31.0) Gecko/20100101 Firefox/31.0', userId='30')]"
      ]
     },
     "execution_count": 5,
     "metadata": {},
     "output_type": "execute_result"
    }
   ],
   "source": [
    "df.take(5)"
   ]
  },
  {
   "cell_type": "markdown",
   "metadata": {},
   "source": [
    "Schema information\n",
    "\n",
    "* artist: Artist name (ex. Daft Punk)\n",
    "* auth: User authentication status (ex. Logged)\n",
    "* firstName: User first name (ex. Colin)\n",
    "* gender: Gender (ex. F or M)\n",
    "* itemInSession: Item count in a session (ex. 52)\n",
    "* lastName: User last name (ex. Freeman)\n",
    "* length: Length of song (ex. 223.60771)\n",
    "* level: User plan (ex. paid)\n",
    "* location: User's location (ex. Bakersfield)\n",
    "* method: HTTP method (ex. PUT)\n",
    "* page: Page name (ex. NextSong)\n",
    "* registration: Registration timestamp (unix timestamp) (ex. 1538173362000)\n",
    "* sessionId: Session ID (ex. 29)\n",
    "* song: Song (ex. Harder Better Faster Stronger)\n",
    "* status: HTTP status (ex. 200)\n",
    "* ts: Event timestamp(unix timestamp) (ex. 1538352676000)\n",
    "* userAgent: User's browswer agent (ex. Mozilla/5.0 (Windows NT 6.1; WOW64; rv:31.0) Gecko/20100101 Firefox/31.0)\n",
    "* userId: User ID (ex. 30)"
   ]
  },
  {
   "cell_type": "code",
   "execution_count": 6,
   "metadata": {},
   "outputs": [
    {
     "name": "stdout",
     "output_type": "stream",
     "text": [
      "root\n",
      " |-- artist: string (nullable = true)\n",
      " |-- auth: string (nullable = true)\n",
      " |-- firstName: string (nullable = true)\n",
      " |-- gender: string (nullable = true)\n",
      " |-- itemInSession: long (nullable = true)\n",
      " |-- lastName: string (nullable = true)\n",
      " |-- length: double (nullable = true)\n",
      " |-- level: string (nullable = true)\n",
      " |-- location: string (nullable = true)\n",
      " |-- method: string (nullable = true)\n",
      " |-- page: string (nullable = true)\n",
      " |-- registration: long (nullable = true)\n",
      " |-- sessionId: long (nullable = true)\n",
      " |-- song: string (nullable = true)\n",
      " |-- status: long (nullable = true)\n",
      " |-- ts: long (nullable = true)\n",
      " |-- userAgent: string (nullable = true)\n",
      " |-- userId: string (nullable = true)\n",
      "\n"
     ]
    }
   ],
   "source": [
    "df.printSchema()"
   ]
  },
  {
   "cell_type": "markdown",
   "metadata": {},
   "source": [
    "Statistics of the whole dataset"
   ]
  },
  {
   "cell_type": "code",
   "execution_count": 7,
   "metadata": {},
   "outputs": [
    {
     "name": "stdout",
     "output_type": "stream",
     "text": [
      "+-------+------------------+----------+---------+------+------------------+--------+------------------+------+-----------------+------+-------+--------------------+-----------------+--------------------+------------------+--------------------+--------------------+------------------+\n",
      "|summary|            artist|      auth|firstName|gender|     itemInSession|lastName|            length| level|         location|method|   page|        registration|        sessionId|                song|            status|                  ts|           userAgent|            userId|\n",
      "+-------+------------------+----------+---------+------+------------------+--------+------------------+------+-----------------+------+-------+--------------------+-----------------+--------------------+------------------+--------------------+--------------------+------------------+\n",
      "|  count|            228108|    286500|   278154|278154|            286500|  278154|            228108|286500|           278154|286500| 286500|              278154|           286500|              228108|            286500|              286500|              278154|            286500|\n",
      "|   mean| 551.0852017937219|      null|     null|  null|114.41421291448516|    null|249.11718197783583|  null|             null|  null|   null|1.535358834085619...|1041.526554973822|            Infinity|210.05459685863875|1.540956889810394...|                null| 59682.02278593872|\n",
      "| stddev|1217.7693079161377|      null|     null|  null| 129.7672620114106|    null| 99.23517921058313|  null|             null|  null|   null|3.2913216163281236E9|726.7762634630807|                 NaN|31.505078488421987|  1.50754396082106E9|                null|109091.94999910559|\n",
      "|    min|               !!!| Cancelled| Adelaida|     F|                 0|   Adams|           0.78322|  free|       Albany, OR|   GET|  About|       1521380675000|                1|\u001c",
      "ÃÂg ÃÂtti Gr...|               200|       1538352117000|\"Mozilla/5.0 (Mac...|                  |\n",
      "|    max| ÃÂlafur Arnalds|Logged Out|   Zyonna|     M|              1321|  Wright|        3024.66567|  paid|Winston-Salem, NC|   PUT|Upgrade|       1543247354000|             2474|ÃÂau hafa slopp...|               404|       1543799476000|Mozilla/5.0 (comp...|                99|\n",
      "+-------+------------------+----------+---------+------+------------------+--------+------------------+------+-----------------+------+-------+--------------------+-----------------+--------------------+------------------+--------------------+--------------------+------------------+\n",
      "\n"
     ]
    }
   ],
   "source": [
    "df.describe().show()"
   ]
  },
  {
   "cell_type": "markdown",
   "metadata": {},
   "source": [
    "Statistics of the `artist` column"
   ]
  },
  {
   "cell_type": "code",
   "execution_count": 8,
   "metadata": {},
   "outputs": [
    {
     "name": "stdout",
     "output_type": "stream",
     "text": [
      "+-------+------------------+\n",
      "|summary|            artist|\n",
      "+-------+------------------+\n",
      "|  count|            228108|\n",
      "|   mean| 551.0852017937219|\n",
      "| stddev|1217.7693079161377|\n",
      "|    min|               !!!|\n",
      "|    max| ÃÂlafur Arnalds|\n",
      "+-------+------------------+\n",
      "\n"
     ]
    }
   ],
   "source": [
    "df.describe('artist').show()"
   ]
  },
  {
   "cell_type": "markdown",
   "metadata": {},
   "source": [
    "Statistics of the `sessionId` column"
   ]
  },
  {
   "cell_type": "code",
   "execution_count": 9,
   "metadata": {},
   "outputs": [
    {
     "name": "stdout",
     "output_type": "stream",
     "text": [
      "+-------+-----------------+\n",
      "|summary|        sessionId|\n",
      "+-------+-----------------+\n",
      "|  count|           286500|\n",
      "|   mean|1041.526554973822|\n",
      "| stddev|726.7762634630807|\n",
      "|    min|                1|\n",
      "|    max|             2474|\n",
      "+-------+-----------------+\n",
      "\n"
     ]
    }
   ],
   "source": [
    "df.describe('sessionId').show()"
   ]
  },
  {
   "cell_type": "markdown",
   "metadata": {},
   "source": [
    "Statistics of the `userId` column"
   ]
  },
  {
   "cell_type": "code",
   "execution_count": 10,
   "metadata": {},
   "outputs": [
    {
     "name": "stdout",
     "output_type": "stream",
     "text": [
      "+-------+------------------+\n",
      "|summary|            userId|\n",
      "+-------+------------------+\n",
      "|  count|            286500|\n",
      "|   mean| 59682.02278593872|\n",
      "| stddev|109091.94999910559|\n",
      "|    min|                  |\n",
      "|    max|                99|\n",
      "+-------+------------------+\n",
      "\n"
     ]
    }
   ],
   "source": [
    "df.describe('userId').show()"
   ]
  },
  {
   "cell_type": "markdown",
   "metadata": {},
   "source": [
    "Total rows: 286,500"
   ]
  },
  {
   "cell_type": "code",
   "execution_count": 11,
   "metadata": {},
   "outputs": [
    {
     "data": {
      "text/plain": [
       "286500"
      ]
     },
     "execution_count": 11,
     "metadata": {},
     "output_type": "execute_result"
    }
   ],
   "source": [
    "df.count()"
   ]
  },
  {
   "cell_type": "markdown",
   "metadata": {},
   "source": [
    "All the `page` events\n",
    "\n",
    "- About: \n",
    "- Add Friend: \n",
    "- Add to Playlist: \n",
    "- Cancel: \n",
    "- Cancellation Confirmation: **TODO:**\n",
    "- Downgrade: \n",
    "- Error: \n",
    "- Help: \n",
    "- Home: \n",
    "- Login: \n",
    "- Logout: \n",
    "- NextSong: \n",
    "- Register: \n",
    "- Roll Advert: \n",
    "- Save Settings: \n",
    "- Settings: \n",
    "- Submit Downgrade: \n",
    "- Submit Registration: \n",
    "- Submit Upgrade: \n",
    "- Thumbs Down: \n",
    "- Thumbs Up: \n",
    "- Upgrade: "
   ]
  },
  {
   "cell_type": "code",
   "execution_count": 12,
   "metadata": {},
   "outputs": [
    {
     "name": "stdout",
     "output_type": "stream",
     "text": [
      "+--------------------+\n",
      "|                page|\n",
      "+--------------------+\n",
      "|               About|\n",
      "|          Add Friend|\n",
      "|     Add to Playlist|\n",
      "|              Cancel|\n",
      "|Cancellation Conf...|\n",
      "|           Downgrade|\n",
      "|               Error|\n",
      "|                Help|\n",
      "|                Home|\n",
      "|               Login|\n",
      "|              Logout|\n",
      "|            NextSong|\n",
      "|            Register|\n",
      "|         Roll Advert|\n",
      "|       Save Settings|\n",
      "|            Settings|\n",
      "|    Submit Downgrade|\n",
      "| Submit Registration|\n",
      "|      Submit Upgrade|\n",
      "|         Thumbs Down|\n",
      "+--------------------+\n",
      "only showing top 20 rows\n",
      "\n"
     ]
    }
   ],
   "source": [
    "df.select(\"page\").dropDuplicates().sort(\"page\").show()"
   ]
  },
  {
   "cell_type": "markdown",
   "metadata": {},
   "source": [
    "All the event logs of `userId: 99`"
   ]
  },
  {
   "cell_type": "code",
   "execution_count": 13,
   "metadata": {
    "scrolled": false
   },
   "outputs": [
    {
     "data": {
      "text/plain": [
       "[Row(userId='90', firstname='Jordan', page='Help', song=None),\n",
       " Row(userId='90', firstname='Jordan', page='NextSong', song=\"I'm So Sick\"),\n",
       " Row(userId='90', firstname='Jordan', page='NextSong', song='Black Sunshine'),\n",
       " Row(userId='90', firstname='Jordan', page='NextSong', song='You Could Be Happy'),\n",
       " Row(userId='90', firstname='Jordan', page='Logout', song=None),\n",
       " Row(userId='90', firstname='Jordan', page='Home', song=None),\n",
       " Row(userId='90', firstname='Jordan', page='NextSong', song='Malana'),\n",
       " Row(userId='90', firstname='Jordan', page='NextSong', song='Too Little_ Too Late'),\n",
       " Row(userId='90', firstname='Jordan', page='NextSong', song='Fy Fan'),\n",
       " Row(userId='90', firstname='Jordan', page='NextSong', song=\"I'm Yours (Album Version)\"),\n",
       " Row(userId='90', firstname='Jordan', page='NextSong', song='Matricide'),\n",
       " Row(userId='90', firstname='Jordan', page='NextSong', song='Invocation: Attica Blues'),\n",
       " Row(userId='90', firstname='Jordan', page='NextSong', song='Sehr kosmisch'),\n",
       " Row(userId='90', firstname='Jordan', page='NextSong', song='Strange Times'),\n",
       " Row(userId='90', firstname='Jordan', page='NextSong', song=\"Ghosts 'n' Stuff (Original Instrumental Mix)\"),\n",
       " Row(userId='90', firstname='Jordan', page='NextSong', song='You Give Love A Bad Name'),\n",
       " Row(userId='90', firstname='Jordan', page='NextSong', song='Bulletproof'),\n",
       " Row(userId='90', firstname='Jordan', page='Roll Advert', song=None),\n",
       " Row(userId='90', firstname='Jordan', page='NextSong', song='Hell Yes'),\n",
       " Row(userId='90', firstname='Jordan', page='NextSong', song='Found Home'),\n",
       " Row(userId='90', firstname='Jordan', page='Home', song=None),\n",
       " Row(userId='90', firstname='Jordan', page='NextSong', song='Ready Or Not (Rock Solid Album Version)'),\n",
       " Row(userId='90', firstname='Jordan', page='NextSong', song='The Holiday Song'),\n",
       " Row(userId='90', firstname='Jordan', page='Help', song=None),\n",
       " Row(userId='90', firstname='Jordan', page='NextSong', song='Most Beautiful Plague'),\n",
       " Row(userId='90', firstname='Jordan', page='Roll Advert', song=None),\n",
       " Row(userId='90', firstname='Jordan', page='NextSong', song='A Man/Me/Then Jim (Album Version)'),\n",
       " Row(userId='90', firstname='Jordan', page='Roll Advert', song=None),\n",
       " Row(userId='90', firstname='Jordan', page='NextSong', song='wingless'),\n",
       " Row(userId='90', firstname='Jordan', page='NextSong', song='Feed Your Head'),\n",
       " Row(userId='90', firstname='Jordan', page='NextSong', song='Move The Crowd'),\n",
       " Row(userId='90', firstname='Jordan', page='NextSong', song='Down The Line'),\n",
       " Row(userId='90', firstname='Jordan', page='NextSong', song='The Name Of This Thing Is Not Love'),\n",
       " Row(userId='90', firstname='Jordan', page='NextSong', song='Manuel'),\n",
       " Row(userId='90', firstname='Jordan', page='NextSong', song='More Than Words'),\n",
       " Row(userId='90', firstname='Jordan', page='NextSong', song='Loser'),\n",
       " Row(userId='90', firstname='Jordan', page='NextSong', song='Vegetable Car'),\n",
       " Row(userId='90', firstname='Jordan', page='NextSong', song='Malpractice'),\n",
       " Row(userId='90', firstname='Jordan', page='NextSong', song='It Was A Good Day'),\n",
       " Row(userId='90', firstname='Jordan', page='NextSong', song='Ghost'),\n",
       " Row(userId='90', firstname='Jordan', page='NextSong', song='The Only Night'),\n",
       " Row(userId='90', firstname='Jordan', page='NextSong', song='Fuori Dal Mondo'),\n",
       " Row(userId='90', firstname='Jordan', page='NextSong', song='Revelry'),\n",
       " Row(userId='90', firstname='Jordan', page='NextSong', song='Monster Monster'),\n",
       " Row(userId='90', firstname='Jordan', page='NextSong', song='DÃ\\x83Â©solÃ\\x83Â©')]"
      ]
     },
     "execution_count": 13,
     "metadata": {},
     "output_type": "execute_result"
    }
   ],
   "source": [
    "df.select([\"userId\", \"firstname\", \"page\", \"song\"]).where(df.userId == \"90\").collect()"
   ]
  },
  {
   "cell_type": "markdown",
   "metadata": {},
   "source": [
    "## Clean data"
   ]
  },
  {
   "cell_type": "markdown",
   "metadata": {},
   "source": [
    "If the below Ids are null, delete those rows:\n",
    "\n",
    "* userId\n",
    "* sessionId"
   ]
  },
  {
   "cell_type": "code",
   "execution_count": 14,
   "metadata": {},
   "outputs": [],
   "source": [
    "df_valid = df.dropna(how = \"any\", subset = [\"userId\", \"sessionId\"])\n",
    "df_valid = df_valid.filter(df_valid[\"userId\"] != \"\") # `userId` can be empty string"
   ]
  },
  {
   "cell_type": "code",
   "execution_count": 15,
   "metadata": {},
   "outputs": [
    {
     "name": "stdout",
     "output_type": "stream",
     "text": [
      "df:         286500\n",
      "df_valid: 278154\n",
      "8346 rows have been removed.\n"
     ]
    }
   ],
   "source": [
    "print(\"df:         {}\".format(df.count()))\n",
    "print(\"df_valid: {}\".format(df_valid.count())) # no missing values\n",
    "\n",
    "if df.count() == df_valid.count():\n",
    "    print(\"No missing values with userId and sessionId\")\n",
    "else:\n",
    "    print(\"{} rows have been removed.\".format(df.count() - df_valid.count()))"
   ]
  },
  {
   "cell_type": "markdown",
   "metadata": {},
   "source": [
    "churn: `Cancellation Confirmation`"
   ]
  },
  {
   "cell_type": "code",
   "execution_count": 16,
   "metadata": {},
   "outputs": [
    {
     "name": "stdout",
     "output_type": "stream",
     "text": [
      "+------+---------+---------+------+-------------+--------+------+-----+--------------------+------+--------------------+-------------+---------+----+------+-------------+--------------------+------+\n",
      "|artist|     auth|firstName|gender|itemInSession|lastName|length|level|            location|method|                page| registration|sessionId|song|status|           ts|           userAgent|userId|\n",
      "+------+---------+---------+------+-------------+--------+------+-----+--------------------+------+--------------------+-------------+---------+----+------+-------------+--------------------+------+\n",
      "|  null|Cancelled|   Adriel|     M|          104| Mendoza|  null| paid|  Kansas City, MO-KS|   GET|Cancellation Conf...|1535623466000|      514|null|   200|1538943990000|\"Mozilla/5.0 (Mac...|    18|\n",
      "|  null|Cancelled|    Diego|     M|           56|   Mckee|  null| paid|Phoenix-Mesa-Scot...|   GET|Cancellation Conf...|1537167593000|      540|null|   200|1539033046000|\"Mozilla/5.0 (iPh...|    32|\n",
      "|  null|Cancelled|    Mason|     M|           10|    Hart|  null| free|  Corpus Christi, TX|   GET|Cancellation Conf...|1533157139000|      174|null|   200|1539318918000|\"Mozilla/5.0 (Mac...|   125|\n",
      "|  null|Cancelled|Alexander|     M|          332|  Garcia|  null| paid|Indianapolis-Carm...|   GET|Cancellation Conf...|1536817381000|      508|null|   200|1539375441000|Mozilla/5.0 (Wind...|   105|\n",
      "|  null|Cancelled|    Kayla|     F|          273| Johnson|  null| paid|Philadelphia-Camd...|   GET|Cancellation Conf...|1538333829000|      797|null|   200|1539465584000|Mozilla/5.0 (Wind...|    17|\n",
      "|  null|Cancelled|    Molly|     F|           29|Harrison|  null| free|Virginia Beach-No...|   GET|Cancellation Conf...|1534255113000|      843|null|   200|1539588854000|\"Mozilla/5.0 (Mac...|   143|\n",
      "|  null|Cancelled|     Alex|     M|          145|   Hogan|  null| paid|Denver-Aurora-Lak...|   GET|Cancellation Conf...|1535066380000|      842|null|   200|1539729037000|Mozilla/5.0 (Wind...|   101|\n",
      "|  null|Cancelled|    Davis|     M|           34|    Wang|  null| paid|           Flint, MI|   GET|Cancellation Conf...|1538289776000|      802|null|   200|1539736161000|\"Mozilla/5.0 (Win...|   129|\n",
      "|  null|Cancelled|  Nikolas|     M|          287|   Olsen|  null| paid|Oxnard-Thousand O...|   GET|Cancellation Conf...|1528403713000|      881|null|   200|1539759749000|Mozilla/5.0 (X11;...|   121|\n",
      "|  null|Cancelled|    Ethan|     M|          176| Johnson|  null| paid|Lexington-Fayette...|   GET|Cancellation Conf...|1538080987000|      934|null|   200|1539761972000|\"Mozilla/5.0 (Win...|    51|\n",
      "+------+---------+---------+------+-------------+--------+------+-----+--------------------+------+--------------------+-------------+---------+----+------+-------------+--------------------+------+\n",
      "only showing top 10 rows\n",
      "\n"
     ]
    }
   ],
   "source": [
    "df_valid.filter(\"page = 'Cancellation Confirmation'\").show(10)"
   ]
  },
  {
   "cell_type": "markdown",
   "metadata": {},
   "source": [
    "# Exploratory Data Analysis\n",
    "When you're working with the full dataset, perform EDA by loading a small subset of the data and doing basic manipulations within Spark. In this workspace, you are already provided a small subset of data you can explore.\n",
    "\n",
    "### Define Churn\n",
    "\n",
    "Once you've done some preliminary analysis, create a column `Churn` to use as the label for your model. I suggest using the `Cancellation Confirmation` events to define your churn, which happen for both paid and free users. As a bonus task, you can also look into the `Downgrade` events.\n",
    "\n",
    "### Explore Data\n",
    "Once you've defined churn, perform some exploratory data analysis to observe the behavior for users who stayed vs users who churned. You can start by exploring aggregates on these two groups of users, observing how much of a specific action they experienced per a certain time unit or number of songs played."
   ]
  },
  {
   "cell_type": "code",
   "execution_count": 46,
   "metadata": {},
   "outputs": [
    {
     "data": {
      "text/plain": [
       "['100001',\n",
       " '100003',\n",
       " '100005',\n",
       " '100006',\n",
       " '100007',\n",
       " '100009',\n",
       " '100011',\n",
       " '100012',\n",
       " '100013',\n",
       " '100014',\n",
       " '100015',\n",
       " '100017',\n",
       " '100019',\n",
       " '100021',\n",
       " '100022',\n",
       " '100023',\n",
       " '100024',\n",
       " '100025',\n",
       " '101',\n",
       " '103',\n",
       " '105',\n",
       " '106',\n",
       " '12',\n",
       " '121',\n",
       " '122',\n",
       " '125',\n",
       " '129',\n",
       " '143',\n",
       " '17',\n",
       " '18',\n",
       " '200001',\n",
       " '200011',\n",
       " '200015',\n",
       " '200016',\n",
       " '200017',\n",
       " '200018',\n",
       " '200020',\n",
       " '200021',\n",
       " '200024',\n",
       " '28',\n",
       " '29',\n",
       " '3',\n",
       " '300001',\n",
       " '300007',\n",
       " '32',\n",
       " '51',\n",
       " '53',\n",
       " '54',\n",
       " '58',\n",
       " '70',\n",
       " '73',\n",
       " '87']"
      ]
     },
     "execution_count": 46,
     "metadata": {},
     "output_type": "execute_result"
    }
   ],
   "source": [
    "churned_userIds = [x.userId for x in df_valid.filter(\"page = 'Cancellation Confirmation'\").groupby(\"userId\").count().select(\"userId\").sort(\"userId\").collect()]\n",
    "churned_userIds"
   ]
  },
  {
   "cell_type": "code",
   "execution_count": 65,
   "metadata": {},
   "outputs": [
    {
     "name": "stdout",
     "output_type": "stream",
     "text": [
      "+------+-----+\n",
      "|userId|count|\n",
      "+------+-----+\n",
      "|   125|   11|\n",
      "|100011|   23|\n",
      "|100024|   36|\n",
      "|100006|   44|\n",
      "|   122|   62|\n",
      "|100017|   75|\n",
      "|100003|   78|\n",
      "|100019|   89|\n",
      "|    32|  108|\n",
      "|300007|  143|\n",
      "|   143|  149|\n",
      "|200001|  158|\n",
      "|100001|  187|\n",
      "|100005|  216|\n",
      "|     3|  254|\n",
      "|200016|  268|\n",
      "|100014|  310|\n",
      "|100021|  319|\n",
      "|200015|  349|\n",
      "|   129|  412|\n",
      "+------+-----+\n",
      "only showing top 20 rows\n",
      "\n"
     ]
    }
   ],
   "source": [
    "df_valid.groupby('userId').count().filter(col(\"userId\").isin(churned_userIds)).sort(\"count\").show()"
   ]
  },
  {
   "cell_type": "code",
   "execution_count": null,
   "metadata": {},
   "outputs": [],
   "source": []
  },
  {
   "cell_type": "code",
   "execution_count": null,
   "metadata": {},
   "outputs": [],
   "source": []
  },
  {
   "cell_type": "code",
   "execution_count": 26,
   "metadata": {},
   "outputs": [],
   "source": [
    "flag_churn_event = udf(lambda x: 1 if x == \"Cancellation Confirmation\" else 0, IntegerType())"
   ]
  },
  {
   "cell_type": "code",
   "execution_count": 27,
   "metadata": {},
   "outputs": [],
   "source": [
    "df_valid = df_valid.withColumn(\"churn\", flag_churn_event(\"page\"))"
   ]
  },
  {
   "cell_type": "code",
   "execution_count": 77,
   "metadata": {
    "scrolled": false
   },
   "outputs": [
    {
     "data": {
      "text/plain": [
       "[Row(userId='125', firstname='Mason', ts=1539317144000, page='NextSong', level='free', churn=0),\n",
       " Row(userId='125', firstname='Mason', ts=1539317481000, page='NextSong', level='free', churn=0),\n",
       " Row(userId='125', firstname='Mason', ts=1539317711000, page='NextSong', level='free', churn=0),\n",
       " Row(userId='125', firstname='Mason', ts=1539317914000, page='NextSong', level='free', churn=0),\n",
       " Row(userId='125', firstname='Mason', ts=1539318124000, page='NextSong', level='free', churn=0),\n",
       " Row(userId='125', firstname='Mason', ts=1539318515000, page='NextSong', level='free', churn=0),\n",
       " Row(userId='125', firstname='Mason', ts=1539318728000, page='NextSong', level='free', churn=0),\n",
       " Row(userId='125', firstname='Mason', ts=1539318906000, page='NextSong', level='free', churn=0),\n",
       " Row(userId='125', firstname='Mason', ts=1539318917000, page='Roll Advert', level='free', churn=0),\n",
       " Row(userId='125', firstname='Mason', ts=1539318918000, page='Cancel', level='free', churn=0),\n",
       " Row(userId='125', firstname='Mason', ts=1539318918000, page='Cancellation Confirmation', level='free', churn=1)]"
      ]
     },
     "execution_count": 77,
     "metadata": {},
     "output_type": "execute_result"
    }
   ],
   "source": [
    "df_valid.select([\"userId\", \"firstname\", \"ts\", \"page\", \"level\", \"churn\"]).where(df_valid.userId == \"125\").sort(\"ts\").collect()"
   ]
  },
  {
   "cell_type": "code",
   "execution_count": null,
   "metadata": {},
   "outputs": [],
   "source": []
  },
  {
   "cell_type": "code",
   "execution_count": null,
   "metadata": {},
   "outputs": [],
   "source": []
  },
  {
   "cell_type": "code",
   "execution_count": null,
   "metadata": {},
   "outputs": [],
   "source": []
  },
  {
   "cell_type": "code",
   "execution_count": null,
   "metadata": {},
   "outputs": [],
   "source": []
  },
  {
   "cell_type": "code",
   "execution_count": null,
   "metadata": {},
   "outputs": [],
   "source": []
  },
  {
   "cell_type": "code",
   "execution_count": null,
   "metadata": {},
   "outputs": [],
   "source": []
  },
  {
   "cell_type": "code",
   "execution_count": null,
   "metadata": {},
   "outputs": [],
   "source": []
  },
  {
   "cell_type": "code",
   "execution_count": null,
   "metadata": {},
   "outputs": [],
   "source": []
  },
  {
   "cell_type": "markdown",
   "metadata": {},
   "source": [
    "# Feature Engineering\n",
    "Once you've familiarized yourself with the data, build out the features you find promising to train your model on. To work with the full dataset, you can follow the following steps.\n",
    "- Write a script to extract the necessary features from the smaller subset of data\n",
    "- Ensure that your script is scalable, using the best practices discussed in Lesson 3\n",
    "- Try your script on the full data set, debugging your script if necessary\n",
    "\n",
    "If you are working in the classroom workspace, you can just extract features based on the small subset of data contained here. Be sure to transfer over this work to the larger dataset when you work on your Spark cluster."
   ]
  },
  {
   "cell_type": "code",
   "execution_count": 81,
   "metadata": {},
   "outputs": [
    {
     "name": "stdout",
     "output_type": "stream",
     "text": [
      "+------+----------+\n",
      "|userId|max(churn)|\n",
      "+------+----------+\n",
      "|100010|         0|\n",
      "|200002|         0|\n",
      "|   125|         1|\n",
      "|    51|         1|\n",
      "|   124|         0|\n",
      "+------+----------+\n",
      "only showing top 5 rows\n",
      "\n"
     ]
    }
   ],
   "source": [
    "df_valid.groupby(\"userId\").max(\"churn\").show(5)"
   ]
  },
  {
   "cell_type": "code",
   "execution_count": null,
   "metadata": {},
   "outputs": [],
   "source": []
  },
  {
   "cell_type": "code",
   "execution_count": null,
   "metadata": {},
   "outputs": [],
   "source": []
  },
  {
   "cell_type": "code",
   "execution_count": null,
   "metadata": {},
   "outputs": [],
   "source": []
  },
  {
   "cell_type": "code",
   "execution_count": null,
   "metadata": {},
   "outputs": [],
   "source": []
  },
  {
   "cell_type": "markdown",
   "metadata": {},
   "source": [
    "# Modeling\n",
    "Split the full dataset into train, test, and validation sets. Test out several of the machine learning methods you learned. Evaluate the accuracy of the various models, tuning parameters as necessary. Determine your winning model based on test accuracy and report results on the validation set. Since the churned users are a fairly small subset, I suggest using F1 score as the metric to optimize."
   ]
  },
  {
   "cell_type": "code",
   "execution_count": null,
   "metadata": {},
   "outputs": [],
   "source": []
  },
  {
   "cell_type": "code",
   "execution_count": null,
   "metadata": {},
   "outputs": [],
   "source": []
  },
  {
   "cell_type": "code",
   "execution_count": null,
   "metadata": {},
   "outputs": [],
   "source": []
  },
  {
   "cell_type": "code",
   "execution_count": null,
   "metadata": {},
   "outputs": [],
   "source": []
  },
  {
   "cell_type": "code",
   "execution_count": null,
   "metadata": {},
   "outputs": [],
   "source": []
  },
  {
   "cell_type": "markdown",
   "metadata": {},
   "source": [
    "# Final Steps\n",
    "Clean up your code, adding comments and renaming variables to make the code easier to read and maintain. Refer to the Spark Project Overview page and Data Scientist Capstone Project Rubric to make sure you are including all components of the capstone project and meet all expectations. Remember, this includes thorough documentation in a README file in a Github repository, as well as a web app or blog post."
   ]
  },
  {
   "cell_type": "code",
   "execution_count": null,
   "metadata": {},
   "outputs": [],
   "source": []
  },
  {
   "cell_type": "code",
   "execution_count": null,
   "metadata": {},
   "outputs": [],
   "source": []
  },
  {
   "cell_type": "code",
   "execution_count": null,
   "metadata": {},
   "outputs": [],
   "source": []
  },
  {
   "cell_type": "code",
   "execution_count": null,
   "metadata": {},
   "outputs": [],
   "source": []
  }
 ],
 "metadata": {
  "kernelspec": {
   "display_name": "Python 3",
   "language": "python",
   "name": "python3"
  },
  "language_info": {
   "codemirror_mode": {
    "name": "ipython",
    "version": 3
   },
   "file_extension": ".py",
   "mimetype": "text/x-python",
   "name": "python",
   "nbconvert_exporter": "python",
   "pygments_lexer": "ipython3",
   "version": "3.6.0"
  }
 },
 "nbformat": 4,
 "nbformat_minor": 2
}
